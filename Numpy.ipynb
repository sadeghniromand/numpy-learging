{
 "cells": [
  {
   "cell_type": "code",
   "execution_count": 1,
   "id": "72528f15",
   "metadata": {},
   "outputs": [],
   "source": [
    "import numpy as np"
   ]
  },
  {
   "cell_type": "markdown",
   "id": "3f38ee00",
   "metadata": {},
   "source": [
    "# Numpy DataType"
   ]
  },
  {
   "cell_type": "markdown",
   "id": "d1f92b50",
   "metadata": {},
   "source": [
    "#### create different ndarray\n",
    "one dimensional array(vector)"
   ]
  },
  {
   "cell_type": "code",
   "execution_count": 3,
   "id": "8e1ec01a",
   "metadata": {},
   "outputs": [
    {
     "data": {
      "text/plain": [
       "array([1, 2, 3])"
      ]
     },
     "execution_count": 3,
     "metadata": {},
     "output_type": "execute_result"
    }
   ],
   "source": [
    "a = np.array([1,2,3])\n",
    "a"
   ]
  },
  {
   "cell_type": "markdown",
   "id": "5fd01e62",
   "metadata": {},
   "source": [
    "two dimensional array"
   ]
  },
  {
   "cell_type": "code",
   "execution_count": 4,
   "id": "58a9949b",
   "metadata": {},
   "outputs": [
    {
     "data": {
      "text/plain": [
       "array([[1, 2, 3],\n",
       "       [4, 5, 6]])"
      ]
     },
     "execution_count": 4,
     "metadata": {},
     "output_type": "execute_result"
    }
   ],
   "source": [
    "b = np.array([[1, 2, 3], [4, 5, 6]])\n",
    "b"
   ]
  },
  {
   "cell_type": "markdown",
   "id": "2559bfe0",
   "metadata": {},
   "source": [
    "three dimensional array"
   ]
  },
  {
   "cell_type": "code",
   "execution_count": 6,
   "id": "b935f383",
   "metadata": {},
   "outputs": [
    {
     "data": {
      "text/plain": [
       "array([[[1, 2, 3],\n",
       "        [4, 5, 6]],\n",
       "\n",
       "       [[1, 2, 3],\n",
       "        [4, 5, 6]]])"
      ]
     },
     "execution_count": 6,
     "metadata": {},
     "output_type": "execute_result"
    }
   ],
   "source": [
    "d = np.array([[1, 2, 3], [4, 5, 6]])\n",
    "e = np.array([[1, 2, 3], [4, 5, 6]])\n",
    "c = np.array([d,e])\n",
    "c"
   ]
  },
  {
   "cell_type": "markdown",
   "id": "ca278f4c",
   "metadata": {},
   "source": [
    "##### ndim\n",
    "return dimensional array."
   ]
  },
  {
   "cell_type": "code",
   "execution_count": 7,
   "id": "6e96a087",
   "metadata": {},
   "outputs": [
    {
     "data": {
      "text/plain": [
       "1"
      ]
     },
     "execution_count": 7,
     "metadata": {},
     "output_type": "execute_result"
    }
   ],
   "source": [
    "a.ndim"
   ]
  },
  {
   "cell_type": "code",
   "execution_count": 8,
   "id": "72ee20b3",
   "metadata": {},
   "outputs": [
    {
     "data": {
      "text/plain": [
       "2"
      ]
     },
     "execution_count": 8,
     "metadata": {},
     "output_type": "execute_result"
    }
   ],
   "source": [
    "b.ndim"
   ]
  },
  {
   "cell_type": "code",
   "execution_count": 9,
   "id": "65bedd3a",
   "metadata": {},
   "outputs": [
    {
     "data": {
      "text/plain": [
       "3"
      ]
     },
     "execution_count": 9,
     "metadata": {},
     "output_type": "execute_result"
    }
   ],
   "source": [
    "c.ndim"
   ]
  },
  {
   "cell_type": "markdown",
   "id": "5450c56f",
   "metadata": {},
   "source": [
    "##### shape\n",
    "Return the shape of an array."
   ]
  },
  {
   "cell_type": "code",
   "execution_count": 13,
   "id": "71b7c5fe",
   "metadata": {},
   "outputs": [
    {
     "data": {
      "text/plain": [
       "array([1, 2, 3])"
      ]
     },
     "execution_count": 13,
     "metadata": {},
     "output_type": "execute_result"
    }
   ],
   "source": [
    "a"
   ]
  },
  {
   "cell_type": "code",
   "execution_count": 10,
   "id": "c0757df3",
   "metadata": {},
   "outputs": [
    {
     "data": {
      "text/plain": [
       "(3,)"
      ]
     },
     "execution_count": 10,
     "metadata": {},
     "output_type": "execute_result"
    }
   ],
   "source": [
    "a.shape"
   ]
  },
  {
   "cell_type": "code",
   "execution_count": 14,
   "id": "c83a4d79",
   "metadata": {},
   "outputs": [
    {
     "data": {
      "text/plain": [
       "array([[1, 2, 3],\n",
       "       [4, 5, 6]])"
      ]
     },
     "execution_count": 14,
     "metadata": {},
     "output_type": "execute_result"
    }
   ],
   "source": [
    "b"
   ]
  },
  {
   "cell_type": "code",
   "execution_count": 11,
   "id": "4aeb1954",
   "metadata": {},
   "outputs": [
    {
     "data": {
      "text/plain": [
       "(2, 3)"
      ]
     },
     "execution_count": 11,
     "metadata": {},
     "output_type": "execute_result"
    }
   ],
   "source": [
    "b.shape"
   ]
  },
  {
   "cell_type": "code",
   "execution_count": 15,
   "id": "46b4d1f2",
   "metadata": {},
   "outputs": [
    {
     "data": {
      "text/plain": [
       "array([[[1, 2, 3],\n",
       "        [4, 5, 6]],\n",
       "\n",
       "       [[1, 2, 3],\n",
       "        [4, 5, 6]]])"
      ]
     },
     "execution_count": 15,
     "metadata": {},
     "output_type": "execute_result"
    }
   ],
   "source": [
    "c"
   ]
  },
  {
   "cell_type": "code",
   "execution_count": 12,
   "id": "c2af6186",
   "metadata": {},
   "outputs": [
    {
     "data": {
      "text/plain": [
       "(2, 2, 3)"
      ]
     },
     "execution_count": 12,
     "metadata": {},
     "output_type": "execute_result"
    }
   ],
   "source": [
    "c.shape"
   ]
  },
  {
   "cell_type": "markdown",
   "id": "2c45c9e0",
   "metadata": {},
   "source": [
    "##### dtype\n",
    "Type of the data"
   ]
  },
  {
   "cell_type": "code",
   "execution_count": 16,
   "id": "0dc2e06b",
   "metadata": {},
   "outputs": [
    {
     "data": {
      "text/plain": [
       "dtype('int32')"
      ]
     },
     "execution_count": 16,
     "metadata": {},
     "output_type": "execute_result"
    }
   ],
   "source": [
    "a.dtype"
   ]
  },
  {
   "cell_type": "code",
   "execution_count": 17,
   "id": "7cb3b1b1",
   "metadata": {},
   "outputs": [
    {
     "data": {
      "text/plain": [
       "dtype('int32')"
      ]
     },
     "execution_count": 17,
     "metadata": {},
     "output_type": "execute_result"
    }
   ],
   "source": [
    "b.dtype"
   ]
  },
  {
   "cell_type": "code",
   "execution_count": 18,
   "id": "c488350c",
   "metadata": {},
   "outputs": [
    {
     "data": {
      "text/plain": [
       "dtype('int32')"
      ]
     },
     "execution_count": 18,
     "metadata": {},
     "output_type": "execute_result"
    }
   ],
   "source": [
    "c.dtype"
   ]
  },
  {
   "cell_type": "markdown",
   "id": "780dc6d2",
   "metadata": {},
   "source": [
    "##### size\n",
    "number of data"
   ]
  },
  {
   "cell_type": "code",
   "execution_count": 19,
   "id": "789a3ae9",
   "metadata": {},
   "outputs": [
    {
     "data": {
      "text/plain": [
       "3"
      ]
     },
     "execution_count": 19,
     "metadata": {},
     "output_type": "execute_result"
    }
   ],
   "source": [
    "a.size"
   ]
  },
  {
   "cell_type": "code",
   "execution_count": 20,
   "id": "cc1b06fa",
   "metadata": {},
   "outputs": [
    {
     "data": {
      "text/plain": [
       "6"
      ]
     },
     "execution_count": 20,
     "metadata": {},
     "output_type": "execute_result"
    }
   ],
   "source": [
    "b.size"
   ]
  },
  {
   "cell_type": "code",
   "execution_count": 21,
   "id": "81082c39",
   "metadata": {},
   "outputs": [
    {
     "data": {
      "text/plain": [
       "12"
      ]
     },
     "execution_count": 21,
     "metadata": {},
     "output_type": "execute_result"
    }
   ],
   "source": [
    "c.size"
   ]
  },
  {
   "cell_type": "markdown",
   "id": "8eeb9972",
   "metadata": {},
   "source": [
    "# Create Arrays"
   ]
  },
  {
   "cell_type": "markdown",
   "id": "352606a3",
   "metadata": {},
   "source": [
    "### Arange"
   ]
  },
  {
   "cell_type": "code",
   "execution_count": 4,
   "id": "cbffcd11",
   "metadata": {},
   "outputs": [
    {
     "data": {
      "text/plain": [
       "array([ 0,  2,  4,  6,  8, 10, 12, 14, 16, 18, 20])"
      ]
     },
     "execution_count": 4,
     "metadata": {},
     "output_type": "execute_result"
    }
   ],
   "source": [
    "arange_array = np.arange(0, 21, 2)\n",
    "arange_array"
   ]
  },
  {
   "cell_type": "markdown",
   "id": "102fde7b",
   "metadata": {},
   "source": [
    "### Linspace"
   ]
  },
  {
   "cell_type": "code",
   "execution_count": 5,
   "id": "5bbf29f7",
   "metadata": {},
   "outputs": [
    {
     "data": {
      "text/plain": [
       "array([ 0.,  5., 10., 15., 20.])"
      ]
     },
     "execution_count": 5,
     "metadata": {},
     "output_type": "execute_result"
    }
   ],
   "source": [
    "linspace_array = np.linspace(0, 20, 5)\n",
    "linspace_array"
   ]
  },
  {
   "cell_type": "code",
   "execution_count": 8,
   "id": "14c0c15c",
   "metadata": {},
   "outputs": [
    {
     "data": {
      "text/plain": [
       "(array([ 0.,  5., 10., 15., 20.]), 5.0)"
      ]
     },
     "execution_count": 8,
     "metadata": {},
     "output_type": "execute_result"
    }
   ],
   "source": [
    "linspace_array2 = np.linspace(0, 20, 5,retstep=True)\n",
    "linspace_array2"
   ]
  },
  {
   "cell_type": "code",
   "execution_count": 9,
   "id": "05a011f6",
   "metadata": {},
   "outputs": [
    {
     "data": {
      "text/plain": [
       "(array([ 0.        ,  2.85714286,  5.71428571,  8.57142857, 11.42857143,\n",
       "        14.28571429, 17.14285714, 20.        ]),\n",
       " 2.857142857142857)"
      ]
     },
     "execution_count": 9,
     "metadata": {},
     "output_type": "execute_result"
    }
   ],
   "source": [
    "linspace_array3 = np.linspace(0, 20, 8, retstep=True)\n",
    "linspace_array3"
   ]
  },
  {
   "cell_type": "markdown",
   "id": "01e1a821",
   "metadata": {},
   "source": [
    "### Ones"
   ]
  },
  {
   "cell_type": "code",
   "execution_count": 11,
   "id": "e7e6c0be",
   "metadata": {},
   "outputs": [
    {
     "data": {
      "text/plain": [
       "array([[1., 1., 1., 1.],\n",
       "       [1., 1., 1., 1.],\n",
       "       [1., 1., 1., 1.]])"
      ]
     },
     "execution_count": 11,
     "metadata": {},
     "output_type": "execute_result"
    }
   ],
   "source": [
    "ones_array = np.ones((3,4))\n",
    "ones_array"
   ]
  },
  {
   "cell_type": "code",
   "execution_count": 12,
   "id": "d1b8c6dd",
   "metadata": {},
   "outputs": [
    {
     "data": {
      "text/plain": [
       "array([[[1, 1, 1, 1],\n",
       "        [1, 1, 1, 1],\n",
       "        [1, 1, 1, 1]],\n",
       "\n",
       "       [[1, 1, 1, 1],\n",
       "        [1, 1, 1, 1],\n",
       "        [1, 1, 1, 1]]])"
      ]
     },
     "execution_count": 12,
     "metadata": {},
     "output_type": "execute_result"
    }
   ],
   "source": [
    "ones_array2 = np.ones((2,3,4), dtype=int)\n",
    "ones_array2"
   ]
  },
  {
   "cell_type": "markdown",
   "id": "0c07c871",
   "metadata": {},
   "source": [
    "### Zeros"
   ]
  },
  {
   "cell_type": "code",
   "execution_count": 13,
   "id": "73323104",
   "metadata": {},
   "outputs": [
    {
     "data": {
      "text/plain": [
       "array([[0., 0., 0., 0.],\n",
       "       [0., 0., 0., 0.],\n",
       "       [0., 0., 0., 0.]])"
      ]
     },
     "execution_count": 13,
     "metadata": {},
     "output_type": "execute_result"
    }
   ],
   "source": [
    "zero_array = np.zeros((3,4))\n",
    "zero_array"
   ]
  },
  {
   "cell_type": "markdown",
   "id": "cfcb9c9a",
   "metadata": {},
   "source": [
    "### Random"
   ]
  },
  {
   "cell_type": "code",
   "execution_count": 14,
   "id": "6af63f29",
   "metadata": {},
   "outputs": [
    {
     "data": {
      "text/plain": [
       "array([[0.96234101, 0.36930471, 0.58616163, 0.80885879],\n",
       "       [0.19166519, 0.68288441, 0.16148466, 0.95260143],\n",
       "       [0.39919586, 0.84518753, 0.98063847, 0.16984164]])"
      ]
     },
     "execution_count": 14,
     "metadata": {},
     "output_type": "execute_result"
    }
   ],
   "source": [
    "random_array = np.random.random(size=(3,4))\n",
    "random_array"
   ]
  },
  {
   "cell_type": "code",
   "execution_count": 16,
   "id": "11d4da52",
   "metadata": {},
   "outputs": [
    {
     "data": {
      "text/plain": [
       "array([[ 5,  8,  4],\n",
       "       [10,  9, 10],\n",
       "       [ 3,  5,  8],\n",
       "       [ 9, 10,  7]])"
      ]
     },
     "execution_count": 16,
     "metadata": {},
     "output_type": "execute_result"
    }
   ],
   "source": [
    "random_array2 = np.random.randint(1, 11, (4,3), dtype=int)\n",
    "random_array2"
   ]
  },
  {
   "cell_type": "markdown",
   "id": "cd56fcbf",
   "metadata": {},
   "source": [
    "### Seed\n",
    "save firs time random genarete"
   ]
  },
  {
   "cell_type": "code",
   "execution_count": 18,
   "id": "5cef35f9",
   "metadata": {},
   "outputs": [
    {
     "data": {
      "text/plain": [
       "array([[6, 4, 5],\n",
       "       [1, 8, 2],\n",
       "       [4, 6, 8],\n",
       "       [1, 1, 2]])"
      ]
     },
     "execution_count": 18,
     "metadata": {},
     "output_type": "execute_result"
    }
   ],
   "source": [
    "np.random.seed(1)\n",
    "seed_array = np.random.randint(1,9,(4,3))\n",
    "seed_array"
   ]
  },
  {
   "cell_type": "markdown",
   "id": "adfef2a4",
   "metadata": {},
   "source": [
    "# Index And Slicing"
   ]
  },
  {
   "cell_type": "code",
   "execution_count": 19,
   "id": "e97a973d",
   "metadata": {},
   "outputs": [
    {
     "data": {
      "text/plain": [
       "array([ 1,  2,  3,  4,  5,  6,  7,  8,  9, 10, 11, 12, 13, 14, 15])"
      ]
     },
     "execution_count": 19,
     "metadata": {},
     "output_type": "execute_result"
    }
   ],
   "source": [
    "ar = np.arange(1,16)\n",
    "ar"
   ]
  },
  {
   "cell_type": "code",
   "execution_count": 20,
   "id": "9a1757a3",
   "metadata": {},
   "outputs": [
    {
     "data": {
      "text/plain": [
       "1"
      ]
     },
     "execution_count": 20,
     "metadata": {},
     "output_type": "execute_result"
    }
   ],
   "source": [
    "ar[0]"
   ]
  },
  {
   "cell_type": "code",
   "execution_count": 21,
   "id": "4f2c2217",
   "metadata": {},
   "outputs": [
    {
     "data": {
      "text/plain": [
       "11"
      ]
     },
     "execution_count": 21,
     "metadata": {},
     "output_type": "execute_result"
    }
   ],
   "source": [
    "ar[-5]"
   ]
  },
  {
   "cell_type": "code",
   "execution_count": 22,
   "id": "42f1c1c6",
   "metadata": {},
   "outputs": [
    {
     "data": {
      "text/plain": [
       "array([  1,   2, 150,   4,   5,   6,   7,   8,   9,  10,  11,  12,  13,\n",
       "        14,  15])"
      ]
     },
     "execution_count": 22,
     "metadata": {},
     "output_type": "execute_result"
    }
   ],
   "source": [
    "ar[2] = 150\n",
    "ar"
   ]
  },
  {
   "cell_type": "code",
   "execution_count": 23,
   "id": "b50ebc2e",
   "metadata": {},
   "outputs": [
    {
     "data": {
      "text/plain": [
       "array([ 1,  2,  3,  4,  5,  6,  7,  8,  9, 10, 11, 12, 13, 14, 15, 16, 17,\n",
       "       18, 19, 20])"
      ]
     },
     "execution_count": 23,
     "metadata": {},
     "output_type": "execute_result"
    }
   ],
   "source": [
    "ar2 = np.arange(1,21)\n",
    "ar2"
   ]
  },
  {
   "cell_type": "code",
   "execution_count": 25,
   "id": "a8ab7d6b",
   "metadata": {},
   "outputs": [
    {
     "data": {
      "text/plain": [
       "array([[ 1,  2,  3,  4,  5],\n",
       "       [ 6,  7,  8,  9, 10],\n",
       "       [11, 12, 13, 14, 15],\n",
       "       [16, 17, 18, 19, 20]])"
      ]
     },
     "execution_count": 25,
     "metadata": {},
     "output_type": "execute_result"
    }
   ],
   "source": [
    "ar2.shape = (4, 5)\n",
    "ar2"
   ]
  },
  {
   "cell_type": "code",
   "execution_count": 26,
   "id": "c61c9f54",
   "metadata": {},
   "outputs": [
    {
     "data": {
      "text/plain": [
       "array([ 6,  7,  8,  9, 10])"
      ]
     },
     "execution_count": 26,
     "metadata": {},
     "output_type": "execute_result"
    }
   ],
   "source": [
    "ar2[1]"
   ]
  },
  {
   "cell_type": "code",
   "execution_count": 27,
   "id": "d5311682",
   "metadata": {},
   "outputs": [
    {
     "data": {
      "text/plain": [
       "8"
      ]
     },
     "execution_count": 27,
     "metadata": {},
     "output_type": "execute_result"
    }
   ],
   "source": [
    "ar2[1][2]"
   ]
  },
  {
   "cell_type": "code",
   "execution_count": 28,
   "id": "0366b912",
   "metadata": {},
   "outputs": [
    {
     "data": {
      "text/plain": [
       "8"
      ]
     },
     "execution_count": 28,
     "metadata": {},
     "output_type": "execute_result"
    }
   ],
   "source": [
    "ar2[1,2]"
   ]
  },
  {
   "cell_type": "code",
   "execution_count": 29,
   "id": "aa338fc9",
   "metadata": {},
   "outputs": [
    {
     "data": {
      "text/plain": [
       "array([[ 1,  2],\n",
       "       [ 6,  7],\n",
       "       [11, 12],\n",
       "       [16, 17]])"
      ]
     },
     "execution_count": 29,
     "metadata": {},
     "output_type": "execute_result"
    }
   ],
   "source": [
    "ar2[:, :2]"
   ]
  },
  {
   "cell_type": "code",
   "execution_count": 30,
   "id": "816d70d7",
   "metadata": {},
   "outputs": [
    {
     "data": {
      "text/plain": [
       "array([[[5, 8, 6, 5],\n",
       "        [7, 2, 3, 5],\n",
       "        [7, 6, 3, 5]],\n",
       "\n",
       "       [[4, 5, 3, 5],\n",
       "        [6, 7, 3, 5],\n",
       "        [8, 8, 2, 2]]])"
      ]
     },
     "execution_count": 30,
     "metadata": {},
     "output_type": "execute_result"
    }
   ],
   "source": [
    "ar3 = np.random.randint(1, 9, size=(2, 3, 4))\n",
    "ar3"
   ]
  },
  {
   "cell_type": "code",
   "execution_count": 31,
   "id": "8288fc11",
   "metadata": {},
   "outputs": [
    {
     "data": {
      "text/plain": [
       "array([[5, 8, 6, 5],\n",
       "       [7, 2, 3, 5],\n",
       "       [7, 6, 3, 5]])"
      ]
     },
     "execution_count": 31,
     "metadata": {},
     "output_type": "execute_result"
    }
   ],
   "source": [
    "ar3[0]"
   ]
  },
  {
   "cell_type": "code",
   "execution_count": 32,
   "id": "39c9bacc",
   "metadata": {},
   "outputs": [
    {
     "data": {
      "text/plain": [
       "array([7, 2, 3, 5])"
      ]
     },
     "execution_count": 32,
     "metadata": {},
     "output_type": "execute_result"
    }
   ],
   "source": [
    "ar3[0][1]"
   ]
  },
  {
   "cell_type": "code",
   "execution_count": 33,
   "id": "a81cfa3a",
   "metadata": {},
   "outputs": [
    {
     "data": {
      "text/plain": [
       "5"
      ]
     },
     "execution_count": 33,
     "metadata": {},
     "output_type": "execute_result"
    }
   ],
   "source": [
    "ar3[0][1][-1]"
   ]
  },
  {
   "cell_type": "code",
   "execution_count": 35,
   "id": "2270ad8c",
   "metadata": {},
   "outputs": [
    {
     "data": {
      "text/plain": [
       "3"
      ]
     },
     "execution_count": 35,
     "metadata": {},
     "output_type": "execute_result"
    }
   ],
   "source": [
    "ar3[1, 1, 2]"
   ]
  },
  {
   "cell_type": "code",
   "execution_count": 36,
   "id": "640de033",
   "metadata": {},
   "outputs": [
    {
     "data": {
      "text/plain": [
       "array([[[6, 5],\n",
       "        [3, 5],\n",
       "        [3, 5]],\n",
       "\n",
       "       [[3, 5],\n",
       "        [3, 5],\n",
       "        [2, 2]]])"
      ]
     },
     "execution_count": 36,
     "metadata": {},
     "output_type": "execute_result"
    }
   ],
   "source": [
    "ar3[:, :, -2:]"
   ]
  },
  {
   "cell_type": "markdown",
   "id": "1689b5a7",
   "metadata": {},
   "source": [
    "# Masked Array"
   ]
  },
  {
   "cell_type": "code",
   "execution_count": 37,
   "id": "5964e07d",
   "metadata": {},
   "outputs": [
    {
     "data": {
      "text/plain": [
       "array([95, 97, 87, 14, 10,  8, 64, 62, 23, 58,  2,  1, 61, 82,  9, 89, 14,\n",
       "       48, 73, 31, 72,  4, 71, 22, 50, 58,  4, 69, 25, 44, 77, 27, 53, 81,\n",
       "       42, 83, 16, 65, 69, 26, 99, 88,  8, 27, 26, 23, 10, 68, 24, 28, 38,\n",
       "       58, 84, 39,  9, 33, 35, 11, 24, 16])"
      ]
     },
     "execution_count": 37,
     "metadata": {},
     "output_type": "execute_result"
    }
   ],
   "source": [
    "ary = np.random.randint(1,100,60)\n",
    "ary"
   ]
  },
  {
   "cell_type": "code",
   "execution_count": 39,
   "id": "d67d90f2",
   "metadata": {},
   "outputs": [
    {
     "data": {
      "text/plain": [
       "(60,)"
      ]
     },
     "execution_count": 39,
     "metadata": {},
     "output_type": "execute_result"
    }
   ],
   "source": [
    "ary.shape"
   ]
  },
  {
   "cell_type": "code",
   "execution_count": 41,
   "id": "d91e0183",
   "metadata": {},
   "outputs": [
    {
     "data": {
      "text/plain": [
       "array([[[95, 97, 87, 14, 10,  8],\n",
       "        [64, 62, 23, 58,  2,  1],\n",
       "        [61, 82,  9, 89, 14, 48],\n",
       "        [73, 31, 72,  4, 71, 22],\n",
       "        [50, 58,  4, 69, 25, 44]],\n",
       "\n",
       "       [[77, 27, 53, 81, 42, 83],\n",
       "        [16, 65, 69, 26, 99, 88],\n",
       "        [ 8, 27, 26, 23, 10, 68],\n",
       "        [24, 28, 38, 58, 84, 39],\n",
       "        [ 9, 33, 35, 11, 24, 16]]])"
      ]
     },
     "execution_count": 41,
     "metadata": {},
     "output_type": "execute_result"
    }
   ],
   "source": [
    "ary = ary.reshape((2,5,6))\n",
    "ary"
   ]
  },
  {
   "cell_type": "code",
   "execution_count": 43,
   "id": "665f01d8",
   "metadata": {},
   "outputs": [
    {
     "data": {
      "text/plain": [
       "array([ 1,  2,  4,  8,  9, 10, 11, 14, 16, 22, 23, 24, 25, 26, 27, 28, 31,\n",
       "       33, 35, 38, 39, 42, 44, 48, 50, 53, 58, 61, 62, 64, 65, 68, 69, 71,\n",
       "       72, 73, 77, 81, 82, 83, 84, 87, 88, 89, 95, 97, 99])"
      ]
     },
     "execution_count": 43,
     "metadata": {},
     "output_type": "execute_result"
    }
   ],
   "source": [
    "unique_array = np.unique(ary)\n",
    "unique_array"
   ]
  },
  {
   "cell_type": "code",
   "execution_count": 44,
   "id": "e4eb438c",
   "metadata": {},
   "outputs": [
    {
     "data": {
      "text/plain": [
       "array([95, 97, 87, 64, 62, 58, 61, 82, 89, 48, 73, 31, 72, 71, 50, 58, 69,\n",
       "       44, 77, 53, 81, 42, 83, 65, 69, 99, 88, 68, 38, 58, 84, 39, 33, 35])"
      ]
     },
     "execution_count": 44,
     "metadata": {},
     "output_type": "execute_result"
    }
   ],
   "source": [
    "ary[ary > 30]"
   ]
  },
  {
   "cell_type": "code",
   "execution_count": 47,
   "id": "7ed32068",
   "metadata": {},
   "outputs": [
    {
     "data": {
      "text/plain": [
       "array([[[ True,  True,  True, False, False, False],\n",
       "        [ True,  True, False,  True, False, False],\n",
       "        [ True,  True, False,  True, False,  True],\n",
       "        [ True,  True,  True, False,  True, False],\n",
       "        [ True,  True, False,  True, False,  True]],\n",
       "\n",
       "       [[ True, False,  True,  True,  True,  True],\n",
       "        [False,  True,  True, False,  True,  True],\n",
       "        [False, False, False, False, False,  True],\n",
       "        [False, False,  True,  True,  True,  True],\n",
       "        [False,  True,  True, False, False, False]]])"
      ]
     },
     "execution_count": 47,
     "metadata": {},
     "output_type": "execute_result"
    }
   ],
   "source": [
    "greater_than_30 = ary > 30\n",
    "greater_than_30"
   ]
  },
  {
   "cell_type": "code",
   "execution_count": 48,
   "id": "46c5aa75",
   "metadata": {},
   "outputs": [
    {
     "data": {
      "text/plain": [
       "array([95, 97, 87, 64, 62, 58, 61, 82, 89, 48, 73, 31, 72, 71, 50, 58, 69,\n",
       "       44, 77, 53, 81, 42, 83, 65, 69, 99, 88, 68, 38, 58, 84, 39, 33, 35])"
      ]
     },
     "execution_count": 48,
     "metadata": {},
     "output_type": "execute_result"
    }
   ],
   "source": [
    "ary[greater_than_30]"
   ]
  },
  {
   "cell_type": "code",
   "execution_count": 51,
   "id": "44ba9578",
   "metadata": {},
   "outputs": [
    {
     "data": {
      "text/plain": [
       "array([[[False, False, False,  True,  True,  True],\n",
       "        [ True,  True, False,  True,  True, False],\n",
       "        [False,  True, False, False,  True,  True],\n",
       "        [False, False,  True,  True, False,  True],\n",
       "        [ True,  True,  True, False, False,  True]],\n",
       "\n",
       "       [[False, False, False, False,  True, False],\n",
       "        [ True, False, False,  True, False,  True],\n",
       "        [ True, False,  True, False,  True,  True],\n",
       "        [ True,  True,  True,  True,  True, False],\n",
       "        [False, False, False, False,  True,  True]]])"
      ]
     },
     "execution_count": 51,
     "metadata": {},
     "output_type": "execute_result"
    }
   ],
   "source": [
    "even_elements = ary % 2 ==0\n",
    "even_elements"
   ]
  },
  {
   "cell_type": "code",
   "execution_count": 52,
   "id": "9195488c",
   "metadata": {},
   "outputs": [
    {
     "data": {
      "text/plain": [
       "array([64, 62, 58, 82, 48, 72, 50, 58, 44, 42, 88, 68, 38, 58, 84])"
      ]
     },
     "execution_count": 52,
     "metadata": {},
     "output_type": "execute_result"
    }
   ],
   "source": [
    "final_mask = np.logical_and(greater_than_30,even_elements)\n",
    "ary[final_mask]"
   ]
  },
  {
   "cell_type": "code",
   "execution_count": 55,
   "id": "fd3705e4",
   "metadata": {},
   "outputs": [
    {
     "data": {
      "text/plain": [
       "array([95, 97, 87, 14, 10,  8, 64, 62, 58,  2,  1, 61, 82,  9, 89, 14, 48,\n",
       "       73, 31, 72,  4, 71, 50, 58,  4, 69, 44, 77, 53, 81, 42, 83, 16, 65,\n",
       "       69, 99, 88,  8, 10, 68, 38, 58, 84, 39,  9, 33, 35, 11, 16])"
      ]
     },
     "execution_count": 55,
     "metadata": {},
     "output_type": "execute_result"
    }
   ],
   "source": [
    "less_than_20 = ary < 20\n",
    "result = np.logical_or(greater_than_30,less_than_20)\n",
    "ary[result]"
   ]
  },
  {
   "cell_type": "markdown",
   "id": "2cf51a79",
   "metadata": {},
   "source": [
    "# Numpy Broadcasting"
   ]
  },
  {
   "cell_type": "code",
   "execution_count": 2,
   "id": "0830d305",
   "metadata": {},
   "outputs": [
    {
     "data": {
      "text/plain": [
       "array([0, 1, 2, 3, 4])"
      ]
     },
     "execution_count": 2,
     "metadata": {},
     "output_type": "execute_result"
    }
   ],
   "source": [
    "arry = np.arange(5)\n",
    "arry"
   ]
  },
  {
   "cell_type": "code",
   "execution_count": 3,
   "id": "4cde2a07",
   "metadata": {},
   "outputs": [
    {
     "data": {
      "text/plain": [
       "array([4, 5, 6, 7, 8])"
      ]
     },
     "execution_count": 3,
     "metadata": {},
     "output_type": "execute_result"
    }
   ],
   "source": [
    "arry + 4"
   ]
  },
  {
   "cell_type": "code",
   "execution_count": 4,
   "id": "eb68372c",
   "metadata": {},
   "outputs": [
    {
     "data": {
      "text/plain": [
       "array([[2, 7, 3, 2, 4]])"
      ]
     },
     "execution_count": 4,
     "metadata": {},
     "output_type": "execute_result"
    }
   ],
   "source": [
    "arry2 = np.random.randint(1, 9, size = 5).reshape((1,5))\n",
    "arry2"
   ]
  },
  {
   "cell_type": "code",
   "execution_count": 5,
   "id": "261bc3ac",
   "metadata": {},
   "outputs": [
    {
     "data": {
      "text/plain": [
       "array([[2, 8, 5, 5, 8]])"
      ]
     },
     "execution_count": 5,
     "metadata": {},
     "output_type": "execute_result"
    }
   ],
   "source": [
    "arry + arry2"
   ]
  },
  {
   "cell_type": "code",
   "execution_count": 7,
   "id": "d64391c7",
   "metadata": {},
   "outputs": [
    {
     "data": {
      "text/plain": [
       "array([[-2, -6, -1,  1,  0]])"
      ]
     },
     "execution_count": 7,
     "metadata": {},
     "output_type": "execute_result"
    }
   ],
   "source": [
    "arry - arry2"
   ]
  },
  {
   "cell_type": "code",
   "execution_count": 8,
   "id": "832a48b3",
   "metadata": {},
   "outputs": [
    {
     "data": {
      "text/plain": [
       "array([[ 0,  7,  6,  6, 16]])"
      ]
     },
     "execution_count": 8,
     "metadata": {},
     "output_type": "execute_result"
    }
   ],
   "source": [
    "arry * arry2"
   ]
  },
  {
   "cell_type": "code",
   "execution_count": 9,
   "id": "668296ee",
   "metadata": {},
   "outputs": [
    {
     "data": {
      "text/plain": [
       "array([[0.        , 0.14285714, 0.66666667, 1.5       , 1.        ]])"
      ]
     },
     "execution_count": 9,
     "metadata": {},
     "output_type": "execute_result"
    }
   ],
   "source": [
    "arry / arry2"
   ]
  },
  {
   "cell_type": "code",
   "execution_count": 10,
   "id": "a2597644",
   "metadata": {},
   "outputs": [
    {
     "data": {
      "text/plain": [
       "array([[0, 1, 2, 1, 0]], dtype=int32)"
      ]
     },
     "execution_count": 10,
     "metadata": {},
     "output_type": "execute_result"
    }
   ],
   "source": [
    "arry % arry2"
   ]
  },
  {
   "cell_type": "code",
   "execution_count": 11,
   "id": "33655965",
   "metadata": {},
   "outputs": [
    {
     "data": {
      "text/plain": [
       "array([[0, 0, 0, 1, 1]], dtype=int32)"
      ]
     },
     "execution_count": 11,
     "metadata": {},
     "output_type": "execute_result"
    }
   ],
   "source": [
    "arry // arry2"
   ]
  },
  {
   "cell_type": "code",
   "execution_count": 12,
   "id": "cc5cf4a3",
   "metadata": {},
   "outputs": [
    {
     "data": {
      "text/plain": [
       "array([[23, 87, 97, 81, 64, 50, 64, 92, 67, 89],\n",
       "       [55, 65, 24, 60, 55, 53, 16, 73,  1, 29],\n",
       "       [65, 94, 87, 21, 23, 59, 81, 15, 96, 32],\n",
       "       [98, 83, 61, 80, 74, 31,  2,  8, 21, 66],\n",
       "       [60, 19, 52, 97, 16, 31, 47, 16, 35, 52]])"
      ]
     },
     "execution_count": 12,
     "metadata": {},
     "output_type": "execute_result"
    }
   ],
   "source": [
    "arry3 = np.random.randint(1, 99, size=50).reshape((5,10))\n",
    "arry3"
   ]
  },
  {
   "cell_type": "code",
   "execution_count": 13,
   "id": "a5b6cbbc",
   "metadata": {},
   "outputs": [
    {
     "data": {
      "text/plain": [
       "array([[2, 7, 3, 2, 4]])"
      ]
     },
     "execution_count": 13,
     "metadata": {},
     "output_type": "execute_result"
    }
   ],
   "source": [
    "arry2"
   ]
  },
  {
   "cell_type": "code",
   "execution_count": 14,
   "id": "7d329ebe",
   "metadata": {},
   "outputs": [
    {
     "ename": "ValueError",
     "evalue": "operands could not be broadcast together with shapes (1,5) (5,10) ",
     "output_type": "error",
     "traceback": [
      "\u001b[1;31m---------------------------------------------------------------------------\u001b[0m",
      "\u001b[1;31mValueError\u001b[0m                                Traceback (most recent call last)",
      "\u001b[1;32m~\\AppData\\Local\\Temp/ipykernel_21044/3771053434.py\u001b[0m in \u001b[0;36m<module>\u001b[1;34m\u001b[0m\n\u001b[1;32m----> 1\u001b[1;33m \u001b[0marry2\u001b[0m \u001b[1;33m+\u001b[0m \u001b[0marry3\u001b[0m\u001b[1;33m\u001b[0m\u001b[1;33m\u001b[0m\u001b[0m\n\u001b[0m",
      "\u001b[1;31mValueError\u001b[0m: operands could not be broadcast together with shapes (1,5) (5,10) "
     ]
    }
   ],
   "source": [
    "arry2 + arry3"
   ]
  },
  {
   "cell_type": "code",
   "execution_count": 15,
   "id": "5765d1b2",
   "metadata": {},
   "outputs": [
    {
     "data": {
      "text/plain": [
       "array([[78, 20, 92, 50, 53],\n",
       "       [50, 23, 37, 97,  4],\n",
       "       [58, 59,  9, 53, 97],\n",
       "       [89, 51, 79, 33, 51],\n",
       "       [72, 72, 27, 75, 53],\n",
       "       [25,  6, 59, 39, 84],\n",
       "       [92, 39, 45, 84, 16],\n",
       "       [36, 14, 92, 76, 86],\n",
       "       [83, 74, 92, 26,  3],\n",
       "       [92, 23, 51, 89, 69]])"
      ]
     },
     "execution_count": 15,
     "metadata": {},
     "output_type": "execute_result"
    }
   ],
   "source": [
    "arry3 = np.random.randint(1, 99, size=50).reshape((10,5))\n",
    "arry3"
   ]
  },
  {
   "cell_type": "markdown",
   "id": "7875ba91",
   "metadata": {},
   "source": [
    "###### arry2 = (1,5) => (10,5)"
   ]
  },
  {
   "cell_type": "code",
   "execution_count": 16,
   "id": "d2fe5c0e",
   "metadata": {},
   "outputs": [
    {
     "data": {
      "text/plain": [
       "array([[ 80,  27,  95,  52,  57],\n",
       "       [ 52,  30,  40,  99,   8],\n",
       "       [ 60,  66,  12,  55, 101],\n",
       "       [ 91,  58,  82,  35,  55],\n",
       "       [ 74,  79,  30,  77,  57],\n",
       "       [ 27,  13,  62,  41,  88],\n",
       "       [ 94,  46,  48,  86,  20],\n",
       "       [ 38,  21,  95,  78,  90],\n",
       "       [ 85,  81,  95,  28,   7],\n",
       "       [ 94,  30,  54,  91,  73]])"
      ]
     },
     "execution_count": 16,
     "metadata": {},
     "output_type": "execute_result"
    }
   ],
   "source": [
    "arry2 + arry3"
   ]
  },
  {
   "cell_type": "code",
   "execution_count": 17,
   "id": "304c9f92",
   "metadata": {},
   "outputs": [
    {
     "data": {
      "text/plain": [
       "array([[2, 7, 3, 2, 4]])"
      ]
     },
     "execution_count": 17,
     "metadata": {},
     "output_type": "execute_result"
    }
   ],
   "source": [
    "arry2"
   ]
  },
  {
   "cell_type": "code",
   "execution_count": 18,
   "id": "430b1cd3",
   "metadata": {},
   "outputs": [
    {
     "data": {
      "text/plain": [
       "array([[0],\n",
       "       [1],\n",
       "       [2],\n",
       "       [3],\n",
       "       [4]])"
      ]
     },
     "execution_count": 18,
     "metadata": {},
     "output_type": "execute_result"
    }
   ],
   "source": [
    "q = np.arange(5).reshape(5,1)\n",
    "q"
   ]
  },
  {
   "cell_type": "code",
   "execution_count": 19,
   "id": "a51ee917",
   "metadata": {},
   "outputs": [
    {
     "data": {
      "text/plain": [
       "array([[ 2,  7,  3,  2,  4],\n",
       "       [ 3,  8,  4,  3,  5],\n",
       "       [ 4,  9,  5,  4,  6],\n",
       "       [ 5, 10,  6,  5,  7],\n",
       "       [ 6, 11,  7,  6,  8]])"
      ]
     },
     "execution_count": 19,
     "metadata": {},
     "output_type": "execute_result"
    }
   ],
   "source": [
    "arry2 + q"
   ]
  },
  {
   "cell_type": "code",
   "execution_count": 2,
   "id": "71da229c",
   "metadata": {},
   "outputs": [
    {
     "data": {
      "text/plain": [
       "array([[[30, 69, 35, 10],\n",
       "        [39, 21,  6,  7],\n",
       "        [20, 13, 85, 94],\n",
       "        [96, 12, 10, 62],\n",
       "        [73, 35, 95,  8]],\n",
       "\n",
       "       [[87, 39, 90, 15],\n",
       "        [37, 71, 40,  7],\n",
       "        [91, 15, 50, 39],\n",
       "        [39, 86, 32, 73],\n",
       "        [ 4, 22, 72, 73]]])"
      ]
     },
     "execution_count": 2,
     "metadata": {},
     "output_type": "execute_result"
    }
   ],
   "source": [
    "e = np.random.randint(1, 99, size=40).reshape((2, 5, 4))\n",
    "e"
   ]
  },
  {
   "cell_type": "code",
   "execution_count": 3,
   "id": "d611d9ca",
   "metadata": {},
   "outputs": [
    {
     "data": {
      "text/plain": [
       "array([[ 0,  1,  2,  3],\n",
       "       [ 4,  5,  6,  7],\n",
       "       [ 8,  9, 10, 11],\n",
       "       [12, 13, 14, 15],\n",
       "       [16, 17, 18, 19]])"
      ]
     },
     "execution_count": 3,
     "metadata": {},
     "output_type": "execute_result"
    }
   ],
   "source": [
    "o = np.arange(20).reshape((5, 4))\n",
    "o"
   ]
  },
  {
   "cell_type": "code",
   "execution_count": 4,
   "id": "2276bea7",
   "metadata": {},
   "outputs": [
    {
     "data": {
      "text/plain": [
       "array([[[ 30,  70,  37,  13],\n",
       "        [ 43,  26,  12,  14],\n",
       "        [ 28,  22,  95, 105],\n",
       "        [108,  25,  24,  77],\n",
       "        [ 89,  52, 113,  27]],\n",
       "\n",
       "       [[ 87,  40,  92,  18],\n",
       "        [ 41,  76,  46,  14],\n",
       "        [ 99,  24,  60,  50],\n",
       "        [ 51,  99,  46,  88],\n",
       "        [ 20,  39,  90,  92]]])"
      ]
     },
     "execution_count": 4,
     "metadata": {},
     "output_type": "execute_result"
    }
   ],
   "source": [
    "e + o"
   ]
  },
  {
   "cell_type": "markdown",
   "id": "94c8266b",
   "metadata": {},
   "source": [
    "###### mean => average number"
   ]
  },
  {
   "cell_type": "code",
   "execution_count": 5,
   "id": "09c6963b",
   "metadata": {},
   "outputs": [
    {
     "data": {
      "text/plain": [
       "45.05"
      ]
     },
     "execution_count": 5,
     "metadata": {},
     "output_type": "execute_result"
    }
   ],
   "source": [
    "np.mean(e)"
   ]
  },
  {
   "cell_type": "markdown",
   "id": "3b99299f",
   "metadata": {},
   "source": [
    "###### median => middle number"
   ]
  },
  {
   "cell_type": "code",
   "execution_count": 6,
   "id": "a4e06acc",
   "metadata": {},
   "outputs": [
    {
     "data": {
      "text/plain": [
       "39.0"
      ]
     },
     "execution_count": 6,
     "metadata": {},
     "output_type": "execute_result"
    }
   ],
   "source": [
    "np.median(e)"
   ]
  },
  {
   "cell_type": "code",
   "execution_count": 7,
   "id": "8427cb3f",
   "metadata": {},
   "outputs": [
    {
     "data": {
      "text/plain": [
       "96"
      ]
     },
     "execution_count": 7,
     "metadata": {},
     "output_type": "execute_result"
    }
   ],
   "source": [
    "np.max(e)"
   ]
  },
  {
   "cell_type": "code",
   "execution_count": 8,
   "id": "8bc79c17",
   "metadata": {},
   "outputs": [
    {
     "data": {
      "text/plain": [
       "4"
      ]
     },
     "execution_count": 8,
     "metadata": {},
     "output_type": "execute_result"
    }
   ],
   "source": [
    "np.min(e)"
   ]
  },
  {
   "cell_type": "markdown",
   "id": "bcc70fe6",
   "metadata": {},
   "source": [
    "###### var => variance"
   ]
  },
  {
   "cell_type": "code",
   "execution_count": 9,
   "id": "438403ab",
   "metadata": {},
   "outputs": [
    {
     "data": {
      "text/plain": [
       "942.8474999999999"
      ]
     },
     "execution_count": 9,
     "metadata": {},
     "output_type": "execute_result"
    }
   ],
   "source": [
    "np.var(e)"
   ]
  },
  {
   "cell_type": "markdown",
   "id": "10c18a01",
   "metadata": {},
   "source": [
    "###### std => standard deviation"
   ]
  },
  {
   "cell_type": "code",
   "execution_count": 10,
   "id": "9b9a9789",
   "metadata": {},
   "outputs": [
    {
     "data": {
      "text/plain": [
       "30.70582192353756"
      ]
     },
     "execution_count": 10,
     "metadata": {},
     "output_type": "execute_result"
    }
   ],
   "source": [
    "np.std(e)"
   ]
  },
  {
   "cell_type": "code",
   "execution_count": 11,
   "id": "7e34204c",
   "metadata": {},
   "outputs": [
    {
     "data": {
      "text/plain": [
       "30.70582192353756"
      ]
     },
     "execution_count": 11,
     "metadata": {},
     "output_type": "execute_result"
    }
   ],
   "source": [
    "np.sqrt(np.var(e))"
   ]
  },
  {
   "cell_type": "code",
   "execution_count": 12,
   "id": "2b92384e",
   "metadata": {},
   "outputs": [
    {
     "data": {
      "text/plain": [
       "1802"
      ]
     },
     "execution_count": 12,
     "metadata": {},
     "output_type": "execute_result"
    }
   ],
   "source": [
    "np.sum(e)"
   ]
  },
  {
   "cell_type": "code",
   "execution_count": 13,
   "id": "32687cd6",
   "metadata": {},
   "outputs": [
    {
     "data": {
      "text/plain": [
       "45.05"
      ]
     },
     "execution_count": 13,
     "metadata": {},
     "output_type": "execute_result"
    }
   ],
   "source": [
    "np.sum(e)/e.size"
   ]
  },
  {
   "cell_type": "code",
   "execution_count": 15,
   "id": "7389201d",
   "metadata": {},
   "outputs": [
    {
     "data": {
      "text/plain": [
       "array([ 0,  1,  2,  3,  4,  5,  6,  7,  8,  9, 10, 11, 12, 13, 14, 15, 16,\n",
       "       17, 18, 19, 20, 21, 22, 23, 24, 25, 26, 27, 28, 29, 30, 31, 32, 33,\n",
       "       34, 35, 36, 37, 38, 39, 40, 41, 42, 43, 44, 45, 46, 47, 48, 49, 50,\n",
       "       51, 52, 53, 54, 55, 56, 57, 58, 59, 60, 61, 62, 63, 64, 65, 66, 67,\n",
       "       68, 69, 70, 71, 72, 73, 74, 75, 76, 77, 78, 79, 80, 81, 82, 83, 84,\n",
       "       85, 86, 87, 88, 89, 90, 91, 92, 93, 94, 95, 96, 97, 98, 99])"
      ]
     },
     "execution_count": 15,
     "metadata": {},
     "output_type": "execute_result"
    }
   ],
   "source": [
    "f = np.arange(100)\n",
    "f"
   ]
  },
  {
   "cell_type": "code",
   "execution_count": 16,
   "id": "eb0988de",
   "metadata": {},
   "outputs": [
    {
     "data": {
      "text/plain": [
       "4950"
      ]
     },
     "execution_count": 16,
     "metadata": {},
     "output_type": "execute_result"
    }
   ],
   "source": [
    "sum(f)"
   ]
  },
  {
   "cell_type": "markdown",
   "id": "57b82052",
   "metadata": {},
   "source": [
    "### comparison sum in numpy and sum in python"
   ]
  },
  {
   "cell_type": "code",
   "execution_count": 17,
   "id": "cd536d8b",
   "metadata": {},
   "outputs": [
    {
     "data": {
      "text/plain": [
       "array([34, 17, 28, 54, 24, 57, 84, 74, 51, 90, 51, 36,  8, 61, 18, 17,  3,\n",
       "       80, 61, 32, 44, 46, 13, 96, 69, 38, 72, 90, 39, 88, 95, 20, 78, 64,\n",
       "       38,  8, 80, 26, 83, 56, 43, 43, 95, 13, 40, 95, 12, 84, 56, 69, 69,\n",
       "       28, 64, 39, 54, 31, 97, 50, 86, 45, 49, 29,  7, 21, 18, 82, 88, 94,\n",
       "       60, 40, 43, 67, 80, 70, 71, 87,  4, 29, 87, 77, 51, 32, 38,  9, 56,\n",
       "       59, 10, 17,  8, 72, 18, 31, 72, 28, 24, 40, 96, 16, 51, 49])"
      ]
     },
     "execution_count": 17,
     "metadata": {},
     "output_type": "execute_result"
    }
   ],
   "source": [
    "my_array = np.random.randint(1,99,size=1000000)\n",
    "my_array[:100]"
   ]
  },
  {
   "cell_type": "code",
   "execution_count": 19,
   "id": "71d028c6",
   "metadata": {},
   "outputs": [
    {
     "data": {
      "text/plain": [
       "datetime.timedelta(microseconds=59003)"
      ]
     },
     "execution_count": 19,
     "metadata": {},
     "output_type": "execute_result"
    }
   ],
   "source": [
    "import datetime\n",
    "python_start = datetime.datetime.now()\n",
    "result_python = sum(my_array)\n",
    "python_end = datetime.datetime.now()\n",
    "time_python = python_end - python_start \n",
    "time_python"
   ]
  },
  {
   "cell_type": "code",
   "execution_count": 20,
   "id": "e2a02a32",
   "metadata": {},
   "outputs": [
    {
     "data": {
      "text/plain": [
       "datetime.timedelta(microseconds=999)"
      ]
     },
     "execution_count": 20,
     "metadata": {},
     "output_type": "execute_result"
    }
   ],
   "source": [
    "np_start = datetime.datetime.now()\n",
    "result_np = np.sum(my_array)\n",
    "np_end = datetime.datetime.now()\n",
    "time_np = np_end - np_start\n",
    "time_np"
   ]
  },
  {
   "cell_type": "markdown",
   "id": "83149bd1",
   "metadata": {},
   "source": [
    "# Structured Arrays"
   ]
  },
  {
   "cell_type": "code",
   "execution_count": 21,
   "id": "bc765a04",
   "metadata": {},
   "outputs": [],
   "source": [
    "names = [\"Mohammad\", \"Ali\", \"Hadi\", \"Ehsan\"]\n",
    "ages = [20, 15, 25, 28]\n",
    "cities = [\"tehran\", \"mashhad\", \"yazd\", \"tabriz\"]"
   ]
  },
  {
   "cell_type": "code",
   "execution_count": 22,
   "id": "00567245",
   "metadata": {},
   "outputs": [],
   "source": [
    "pattern = [(\"name\", \"U50\"), (\"age\", \"i4\"), (\"city\", \"U50\")]"
   ]
  },
  {
   "cell_type": "code",
   "execution_count": 23,
   "id": "6098d35b",
   "metadata": {},
   "outputs": [
    {
     "data": {
      "text/plain": [
       "array([('', 0, ''), ('', 0, ''), ('', 0, ''), ('', 0, ''), ('', 0, '')],\n",
       "      dtype=[('name', '<U50'), ('age', '<i4'), ('city', '<U50')])"
      ]
     },
     "execution_count": 23,
     "metadata": {},
     "output_type": "execute_result"
    }
   ],
   "source": [
    "array = np.zeros((5), dtype=pattern)\n",
    "array"
   ]
  },
  {
   "cell_type": "code",
   "execution_count": 24,
   "id": "45664925",
   "metadata": {},
   "outputs": [
    {
     "data": {
      "text/plain": [
       "array([('Mohammad', 20, 'tehran'), ('',  0, ''), ('',  0, ''),\n",
       "       ('',  0, ''), ('',  0, '')],\n",
       "      dtype=[('name', '<U50'), ('age', '<i4'), ('city', '<U50')])"
      ]
     },
     "execution_count": 24,
     "metadata": {},
     "output_type": "execute_result"
    }
   ],
   "source": [
    "array[0] = (\"Mohammad\", 20, \"tehran\")\n",
    "array"
   ]
  },
  {
   "cell_type": "code",
   "execution_count": 25,
   "id": "da359003",
   "metadata": {},
   "outputs": [
    {
     "data": {
      "text/plain": [
       "array([('Mohammad', 20, 'tehran'), ('',  0, ''), ('',  0, ''),\n",
       "       ('Ali', 15, 'mashhad'), ('',  0, '')],\n",
       "      dtype=[('name', '<U50'), ('age', '<i4'), ('city', '<U50')])"
      ]
     },
     "execution_count": 25,
     "metadata": {},
     "output_type": "execute_result"
    }
   ],
   "source": [
    "array[3] = (\"Ali\", 15, \"mashhad\")\n",
    "array"
   ]
  },
  {
   "cell_type": "code",
   "execution_count": 26,
   "id": "4e819458",
   "metadata": {},
   "outputs": [
    {
     "data": {
      "text/plain": [
       "array([20,  0,  0, 15,  0])"
      ]
     },
     "execution_count": 26,
     "metadata": {},
     "output_type": "execute_result"
    }
   ],
   "source": [
    "array[\"age\"]"
   ]
  },
  {
   "cell_type": "code",
   "execution_count": 27,
   "id": "4784d6dd",
   "metadata": {},
   "outputs": [
    {
     "data": {
      "text/plain": [
       "array([[[('', 0, ''), ('', 0, ''), ('', 0, ''), ('', 0, '')],\n",
       "        [('', 0, ''), ('', 0, ''), ('', 0, ''), ('', 0, '')],\n",
       "        [('', 0, ''), ('', 0, ''), ('', 0, ''), ('', 0, '')]],\n",
       "\n",
       "       [[('', 0, ''), ('', 0, ''), ('', 0, ''), ('', 0, '')],\n",
       "        [('', 0, ''), ('', 0, ''), ('', 0, ''), ('', 0, '')],\n",
       "        [('', 0, ''), ('', 0, ''), ('', 0, ''), ('', 0, '')]]],\n",
       "      dtype=[('name', '<U50'), ('age', '<i4'), ('city', '<U50')])"
      ]
     },
     "execution_count": 27,
     "metadata": {},
     "output_type": "execute_result"
    }
   ],
   "source": [
    "array_3d = np.zeros((2,3,4),dtype = pattern)\n",
    "array_3d"
   ]
  },
  {
   "cell_type": "code",
   "execution_count": 28,
   "id": "b6cce858",
   "metadata": {},
   "outputs": [
    {
     "data": {
      "text/plain": [
       "array([[[('',  0, ''), ('',  0, ''), ('',  0, ''), ('',  0, '')],\n",
       "        [('',  0, ''), ('',  0, ''), ('',  0, ''), ('',  0, '')],\n",
       "        [('',  0, ''), ('',  0, ''), ('',  0, ''), ('',  0, '')]],\n",
       "\n",
       "       [[('',  0, ''), ('',  0, ''), ('',  0, ''), ('',  0, '')],\n",
       "        [('',  0, ''), ('',  0, ''), ('',  0, ''),\n",
       "         ('Ehsan', 29, 'saveh')],\n",
       "        [('',  0, ''), ('',  0, ''), ('',  0, ''), ('',  0, '')]]],\n",
       "      dtype=[('name', '<U50'), ('age', '<i4'), ('city', '<U50')])"
      ]
     },
     "execution_count": 28,
     "metadata": {},
     "output_type": "execute_result"
    }
   ],
   "source": [
    "array_3d[1,1,3]= (\"Ehsan\",29,\"saveh\")\n",
    "array_3d"
   ]
  },
  {
   "cell_type": "markdown",
   "id": "23088848",
   "metadata": {},
   "source": [
    "### record array"
   ]
  },
  {
   "cell_type": "code",
   "execution_count": 29,
   "id": "49070426",
   "metadata": {},
   "outputs": [
    {
     "data": {
      "text/plain": [
       "rec.array([('Ehsan', 29, 'saveh'), ('Ali', 15, 'mashhad')],\n",
       "          dtype=[('name', '<U50'), ('age', '<i4'), ('city', '<U50')])"
      ]
     },
     "execution_count": 29,
     "metadata": {},
     "output_type": "execute_result"
    }
   ],
   "source": [
    "record = np.rec.array([(\"Ehsan\",29,\"saveh\"), (\"Ali\", 15, \"mashhad\")], dtype = pattern)\n",
    "record"
   ]
  },
  {
   "cell_type": "code",
   "execution_count": 30,
   "id": "e887242c",
   "metadata": {},
   "outputs": [
    {
     "data": {
      "text/plain": [
       "array(['Ehsan', 'Ali'], dtype='<U50')"
      ]
     },
     "execution_count": 30,
     "metadata": {},
     "output_type": "execute_result"
    }
   ],
   "source": [
    "record.name"
   ]
  },
  {
   "cell_type": "markdown",
   "id": "47707f05",
   "metadata": {},
   "source": [
    "# Views & Copy"
   ]
  },
  {
   "cell_type": "code",
   "execution_count": 31,
   "id": "2962e0fb",
   "metadata": {},
   "outputs": [
    {
     "data": {
      "text/plain": [
       "array([[[ 1,  2,  3,  4],\n",
       "        [ 5,  6,  7,  8],\n",
       "        [ 9, 10, 11, 12]],\n",
       "\n",
       "       [[13, 14, 15, 16],\n",
       "        [17, 18, 19, 20],\n",
       "        [21, 22, 23, 24]]])"
      ]
     },
     "execution_count": 31,
     "metadata": {},
     "output_type": "execute_result"
    }
   ],
   "source": [
    "first_array = np.arange(1, 25).reshape(2,3,4)\n",
    "first_array"
   ]
  },
  {
   "cell_type": "code",
   "execution_count": 32,
   "id": "c07675ba",
   "metadata": {},
   "outputs": [
    {
     "data": {
      "text/plain": [
       "array([[[ 1,  2,  3,  4],\n",
       "        [ 5,  6,  7,  8],\n",
       "        [ 9, 10, 11, 12]],\n",
       "\n",
       "       [[13, 14, 15, 16],\n",
       "        [17, 18, 19, 20],\n",
       "        [21, 22, 23, 24]]])"
      ]
     },
     "execution_count": 32,
     "metadata": {},
     "output_type": "execute_result"
    }
   ],
   "source": [
    "second_array = first_array\n",
    "second_array"
   ]
  },
  {
   "cell_type": "code",
   "execution_count": 33,
   "id": "1dfd7127",
   "metadata": {},
   "outputs": [
    {
     "data": {
      "text/plain": [
       "array([[[ True,  True,  True,  True],\n",
       "        [ True,  True,  True,  True],\n",
       "        [ True,  True,  True,  True]],\n",
       "\n",
       "       [[ True,  True,  True,  True],\n",
       "        [ True,  True,  True,  True],\n",
       "        [ True,  True,  True,  True]]])"
      ]
     },
     "execution_count": 33,
     "metadata": {},
     "output_type": "execute_result"
    }
   ],
   "source": [
    "first_array == second_array"
   ]
  },
  {
   "cell_type": "code",
   "execution_count": 34,
   "id": "a733f74d",
   "metadata": {},
   "outputs": [
    {
     "data": {
      "text/plain": [
       "True"
      ]
     },
     "execution_count": 34,
     "metadata": {},
     "output_type": "execute_result"
    }
   ],
   "source": [
    "first_array is second_array"
   ]
  },
  {
   "cell_type": "markdown",
   "id": "6877c67c",
   "metadata": {},
   "source": [
    "###### shallow copy"
   ]
  },
  {
   "cell_type": "code",
   "execution_count": 35,
   "id": "2ac44d13",
   "metadata": {},
   "outputs": [
    {
     "data": {
      "text/plain": [
       "array([[[ 1,  2,  3,  4],\n",
       "        [ 5,  6,  7,  8],\n",
       "        [ 9, 10, 11, 12]],\n",
       "\n",
       "       [[13, 14, 15, 16],\n",
       "        [17, 18, 19, 20],\n",
       "        [21, 22, 23, 24]]])"
      ]
     },
     "execution_count": 35,
     "metadata": {},
     "output_type": "execute_result"
    }
   ],
   "source": [
    "third_array = first_array.view()\n",
    "third_array"
   ]
  },
  {
   "cell_type": "code",
   "execution_count": 36,
   "id": "c7fb5bdb",
   "metadata": {},
   "outputs": [
    {
     "data": {
      "text/plain": [
       "array([[[ True,  True,  True,  True],\n",
       "        [ True,  True,  True,  True],\n",
       "        [ True,  True,  True,  True]],\n",
       "\n",
       "       [[ True,  True,  True,  True],\n",
       "        [ True,  True,  True,  True],\n",
       "        [ True,  True,  True,  True]]])"
      ]
     },
     "execution_count": 36,
     "metadata": {},
     "output_type": "execute_result"
    }
   ],
   "source": [
    "third_array == first_array"
   ]
  },
  {
   "cell_type": "code",
   "execution_count": 37,
   "id": "cb0417e8",
   "metadata": {},
   "outputs": [
    {
     "data": {
      "text/plain": [
       "False"
      ]
     },
     "execution_count": 37,
     "metadata": {},
     "output_type": "execute_result"
    }
   ],
   "source": [
    "third_array is first_array"
   ]
  },
  {
   "cell_type": "code",
   "execution_count": 38,
   "id": "70ef0f5b",
   "metadata": {},
   "outputs": [
    {
     "data": {
      "text/plain": [
       "(1608977092848, 1608977092944)"
      ]
     },
     "execution_count": 38,
     "metadata": {},
     "output_type": "execute_result"
    }
   ],
   "source": [
    "id(first_array), id(third_array)"
   ]
  },
  {
   "cell_type": "code",
   "execution_count": 39,
   "id": "f88e8441",
   "metadata": {},
   "outputs": [
    {
     "data": {
      "text/plain": [
       "array([[[500,   2,   3,   4],\n",
       "        [  5,   6,   7,   8],\n",
       "        [  9,  10,  11,  12]],\n",
       "\n",
       "       [[ 13,  14,  15,  16],\n",
       "        [ 17,  18,  19,  20],\n",
       "        [ 21,  22,  23,  24]]])"
      ]
     },
     "execution_count": 39,
     "metadata": {},
     "output_type": "execute_result"
    }
   ],
   "source": [
    "first_array[0, 0, 0]=500\n",
    "first_array"
   ]
  },
  {
   "cell_type": "code",
   "execution_count": 40,
   "id": "a7ef044f",
   "metadata": {},
   "outputs": [
    {
     "data": {
      "text/plain": [
       "array([[[500,   2,   3,   4],\n",
       "        [  5,   6,   7,   8],\n",
       "        [  9,  10,  11,  12]],\n",
       "\n",
       "       [[ 13,  14,  15,  16],\n",
       "        [ 17,  18,  19,  20],\n",
       "        [ 21,  22,  23,  24]]])"
      ]
     },
     "execution_count": 40,
     "metadata": {},
     "output_type": "execute_result"
    }
   ],
   "source": [
    "third_array"
   ]
  },
  {
   "cell_type": "code",
   "execution_count": 42,
   "id": "0dbd951c",
   "metadata": {},
   "outputs": [
    {
     "data": {
      "text/plain": [
       "array([[[500,   2,   3,   4],\n",
       "        [  5,   6,   7,   8],\n",
       "        [  9,  10,  11,  12]],\n",
       "\n",
       "       [[ 13,  14,  15,  16],\n",
       "        [ 17,  18,  19,  20],\n",
       "        [ 21,  22,  23,  24]]])"
      ]
     },
     "execution_count": 42,
     "metadata": {},
     "output_type": "execute_result"
    }
   ],
   "source": [
    "forth_array = np.copy(first_array)\n",
    "forth_array"
   ]
  },
  {
   "cell_type": "markdown",
   "id": "91ae651d",
   "metadata": {},
   "source": [
    "# Add And Remove Elements From Array"
   ]
  },
  {
   "cell_type": "code",
   "execution_count": 43,
   "id": "4e03298b",
   "metadata": {},
   "outputs": [
    {
     "data": {
      "text/plain": [
       "array([0, 1, 2, 3, 4, 5, 6, 7, 8, 9])"
      ]
     },
     "execution_count": 43,
     "metadata": {},
     "output_type": "execute_result"
    }
   ],
   "source": [
    "z = np.arange(10)\n",
    "z"
   ]
  },
  {
   "cell_type": "code",
   "execution_count": 45,
   "id": "b6e1ead3",
   "metadata": {},
   "outputs": [
    {
     "data": {
      "text/plain": [
       "array([ 0,  1,  2,  3,  4,  5,  6,  7,  8,  9, 10, 12])"
      ]
     },
     "execution_count": 45,
     "metadata": {},
     "output_type": "execute_result"
    }
   ],
   "source": [
    "x = np.append(z, [10,12])\n",
    "x"
   ]
  },
  {
   "cell_type": "code",
   "execution_count": 46,
   "id": "9bc91f0a",
   "metadata": {},
   "outputs": [
    {
     "data": {
      "text/plain": [
       "array([[[23, 60, 32, 49],\n",
       "        [62, 49, 17,  7],\n",
       "        [74, 12, 46, 20]],\n",
       "\n",
       "       [[91, 87, 47, 70],\n",
       "        [75, 63, 56, 50],\n",
       "        [ 1, 55,  2, 33]]])"
      ]
     },
     "execution_count": 46,
     "metadata": {},
     "output_type": "execute_result"
    }
   ],
   "source": [
    "v = np.random.randint(1,99,size=24).reshape(2,3,4)\n",
    "v"
   ]
  },
  {
   "cell_type": "code",
   "execution_count": 49,
   "id": "f6026340",
   "metadata": {},
   "outputs": [
    {
     "data": {
      "text/plain": [
       "array([[[23, 60, 32, 49],\n",
       "        [62, 49, 17,  7],\n",
       "        [74, 12, 46, 20]],\n",
       "\n",
       "       [[91, 87, 47, 70],\n",
       "        [75, 63, 56, 50],\n",
       "        [ 1, 55,  2, 33]],\n",
       "\n",
       "       [[10, 32, 31,  9],\n",
       "        [82, 27, 38, 73],\n",
       "        [82, 95, 77, 88]],\n",
       "\n",
       "       [[34, 93, 38, 79],\n",
       "        [31, 32, 58, 56],\n",
       "        [20, 18, 67, 22]]])"
      ]
     },
     "execution_count": 49,
     "metadata": {},
     "output_type": "execute_result"
    }
   ],
   "source": [
    "n = np.random.randint(1, 99, size=24).reshape(2,3,4)\n",
    "m = np.append(v,n,axis=0)\n",
    "m"
   ]
  },
  {
   "cell_type": "code",
   "execution_count": 50,
   "id": "5accce9b",
   "metadata": {},
   "outputs": [
    {
     "data": {
      "text/plain": [
       "array([[[23, 60, 32, 49],\n",
       "        [62, 49, 17,  7],\n",
       "        [74, 12, 46, 20],\n",
       "        [ 7, 19, 11, 43],\n",
       "        [94, 60, 77, 75],\n",
       "        [53, 88, 30, 13]],\n",
       "\n",
       "       [[91, 87, 47, 70],\n",
       "        [75, 63, 56, 50],\n",
       "        [ 1, 55,  2, 33],\n",
       "        [56, 83, 82, 53],\n",
       "        [29, 82, 61, 42],\n",
       "        [79, 62, 40,  1]]])"
      ]
     },
     "execution_count": 50,
     "metadata": {},
     "output_type": "execute_result"
    }
   ],
   "source": [
    "n = np.random.randint(1, 99, size=24).reshape(2,3,4)\n",
    "m = np.append(v,n,axis=1)\n",
    "m"
   ]
  },
  {
   "cell_type": "code",
   "execution_count": 52,
   "id": "c73a1388",
   "metadata": {},
   "outputs": [
    {
     "data": {
      "text/plain": [
       "array([[[23, 60, 32, 49, 29, 16,  9, 93],\n",
       "        [62, 49, 17,  7, 32, 54, 79, 43],\n",
       "        [74, 12, 46, 20, 54, 48, 12, 62]],\n",
       "\n",
       "       [[91, 87, 47, 70,  9, 37, 41, 87],\n",
       "        [75, 63, 56, 50, 89, 51, 90, 59],\n",
       "        [ 1, 55,  2, 33, 24, 48, 42, 49]]])"
      ]
     },
     "execution_count": 52,
     "metadata": {},
     "output_type": "execute_result"
    }
   ],
   "source": [
    "n = np.random.randint(1, 99, size=24).reshape(2,3,4)\n",
    "m = np.append(v,n,axis=2)\n",
    "m"
   ]
  },
  {
   "cell_type": "code",
   "execution_count": 53,
   "id": "d2145252",
   "metadata": {},
   "outputs": [
    {
     "data": {
      "text/plain": [
       "array([[[10, 10, 10, 10],\n",
       "        [10, 10, 10, 10],\n",
       "        [10, 10, 10, 10]],\n",
       "\n",
       "       [[23, 60, 32, 49],\n",
       "        [62, 49, 17,  7],\n",
       "        [74, 12, 46, 20]],\n",
       "\n",
       "       [[91, 87, 47, 70],\n",
       "        [75, 63, 56, 50],\n",
       "        [ 1, 55,  2, 33]]])"
      ]
     },
     "execution_count": 53,
     "metadata": {},
     "output_type": "execute_result"
    }
   ],
   "source": [
    "h = np.insert(v,0,10,axis=0)\n",
    "h"
   ]
  },
  {
   "cell_type": "code",
   "execution_count": 54,
   "id": "19d884db",
   "metadata": {},
   "outputs": [
    {
     "data": {
      "text/plain": [
       "array([[[10, 10, 10, 10],\n",
       "        [23, 60, 32, 49],\n",
       "        [62, 49, 17,  7],\n",
       "        [74, 12, 46, 20]],\n",
       "\n",
       "       [[10, 10, 10, 10],\n",
       "        [91, 87, 47, 70],\n",
       "        [75, 63, 56, 50],\n",
       "        [ 1, 55,  2, 33]]])"
      ]
     },
     "execution_count": 54,
     "metadata": {},
     "output_type": "execute_result"
    }
   ],
   "source": [
    "h = np.insert(v,0,10,axis=1)\n",
    "h"
   ]
  },
  {
   "cell_type": "code",
   "execution_count": 55,
   "id": "8ca45f3a",
   "metadata": {},
   "outputs": [
    {
     "data": {
      "text/plain": [
       "array([[[10, 23, 60, 32, 49],\n",
       "        [10, 62, 49, 17,  7],\n",
       "        [10, 74, 12, 46, 20]],\n",
       "\n",
       "       [[10, 91, 87, 47, 70],\n",
       "        [10, 75, 63, 56, 50],\n",
       "        [10,  1, 55,  2, 33]]])"
      ]
     },
     "execution_count": 55,
     "metadata": {},
     "output_type": "execute_result"
    }
   ],
   "source": [
    "h = np.insert(v,0,10,axis=2)\n",
    "h"
   ]
  },
  {
   "cell_type": "code",
   "execution_count": 57,
   "id": "e3b95711",
   "metadata": {},
   "outputs": [
    {
     "data": {
      "text/plain": [
       "array([[[ 1, 23, 60, 32, 49],\n",
       "        [ 2, 62, 49, 17,  7],\n",
       "        [ 3, 74, 12, 46, 20]],\n",
       "\n",
       "       [[ 1, 91, 87, 47, 70],\n",
       "        [ 2, 75, 63, 56, 50],\n",
       "        [ 3,  1, 55,  2, 33]]])"
      ]
     },
     "execution_count": 57,
     "metadata": {},
     "output_type": "execute_result"
    }
   ],
   "source": [
    "h = np.insert(v,0,[1,2,3],axis=2)\n",
    "h"
   ]
  },
  {
   "cell_type": "code",
   "execution_count": 58,
   "id": "ce2679cf",
   "metadata": {},
   "outputs": [
    {
     "data": {
      "text/plain": [
       "array([[[23, 60,  1, 32, 49],\n",
       "        [62, 49,  2, 17,  7],\n",
       "        [74, 12,  3, 46, 20]],\n",
       "\n",
       "       [[91, 87,  1, 47, 70],\n",
       "        [75, 63,  2, 56, 50],\n",
       "        [ 1, 55,  3,  2, 33]]])"
      ]
     },
     "execution_count": 58,
     "metadata": {},
     "output_type": "execute_result"
    }
   ],
   "source": [
    "h = np.insert(v,2,[1,2,3],axis=2)\n",
    "h"
   ]
  },
  {
   "cell_type": "code",
   "execution_count": 59,
   "id": "639cdc60",
   "metadata": {},
   "outputs": [
    {
     "data": {
      "text/plain": [
       "array([[[7.94923134e-312, 7.93626426e-312, 7.94923134e-312,\n",
       "         5.41495948e-321],\n",
       "        [7.94923134e-312, 7.93626426e-312, 7.94923134e-312,\n",
       "         5.41990013e-321],\n",
       "        [7.94923134e-312, 6.01346930e-154, 7.94923134e-312,\n",
       "         3.60739290e-313]],\n",
       "\n",
       "       [[7.94923134e-312, 7.41098469e-323, 7.94923134e-312,\n",
       "         1.11784438e+253],\n",
       "        [7.94923134e-312, 7.49229304e+247, 7.94923134e-312,\n",
       "         9.88131292e-323],\n",
       "        [7.94889030e-312, 0.00000000e+000, 0.00000000e+000,\n",
       "         7.21478569e-313]]])"
      ]
     },
     "execution_count": 59,
     "metadata": {},
     "output_type": "execute_result"
    }
   ],
   "source": [
    "g = np.empty((2,3,4))\n",
    "g"
   ]
  },
  {
   "cell_type": "code",
   "execution_count": 60,
   "id": "0d2c4207",
   "metadata": {},
   "outputs": [
    {
     "data": {
      "text/plain": [
       "array([[[23., 60., 32., 49.],\n",
       "        [62., 49., 17.,  7.],\n",
       "        [74., 12., 46., 20.]],\n",
       "\n",
       "       [[91., 87., 47., 70.],\n",
       "        [75., 63., 56., 50.],\n",
       "        [ 1., 55.,  2., 33.]]])"
      ]
     },
     "execution_count": 60,
     "metadata": {},
     "output_type": "execute_result"
    }
   ],
   "source": [
    "np.copyto(g,v)\n",
    "g"
   ]
  },
  {
   "cell_type": "code",
   "execution_count": 62,
   "id": "cd7df90f",
   "metadata": {},
   "outputs": [
    {
     "data": {
      "text/plain": [
       "array([[[23, 60, 32, 49],\n",
       "        [62, 49, 17,  7],\n",
       "        [74, 12, 46, 20]],\n",
       "\n",
       "       [[91, 87, 47, 70],\n",
       "        [75, 63, 56, 50],\n",
       "        [ 1, 55,  2, 33]]])"
      ]
     },
     "execution_count": 62,
     "metadata": {},
     "output_type": "execute_result"
    }
   ],
   "source": [
    "v"
   ]
  },
  {
   "cell_type": "code",
   "execution_count": 61,
   "id": "478eb8f2",
   "metadata": {},
   "outputs": [
    {
     "data": {
      "text/plain": [
       "array([[[91, 87, 47, 70],\n",
       "        [75, 63, 56, 50],\n",
       "        [ 1, 55,  2, 33]]])"
      ]
     },
     "execution_count": 61,
     "metadata": {},
     "output_type": "execute_result"
    }
   ],
   "source": [
    "w = np.delete(v, 0, axis=0)\n",
    "w"
   ]
  },
  {
   "cell_type": "markdown",
   "id": "bc936938",
   "metadata": {},
   "source": [
    "# Join & Split Arrays"
   ]
  },
  {
   "cell_type": "code",
   "execution_count": 63,
   "id": "a58cccac",
   "metadata": {},
   "outputs": [
    {
     "data": {
      "text/plain": [
       "array([[ 0,  1,  2,  3],\n",
       "       [ 4,  5,  6,  7],\n",
       "       [ 8,  9, 10, 11]])"
      ]
     },
     "execution_count": 63,
     "metadata": {},
     "output_type": "execute_result"
    }
   ],
   "source": [
    "a=np.arange(12).reshape((3,4))\n",
    "b=np.arange(13,25).reshape((3,4))\n",
    "a"
   ]
  },
  {
   "cell_type": "code",
   "execution_count": 64,
   "id": "0f329fea",
   "metadata": {},
   "outputs": [
    {
     "data": {
      "text/plain": [
       "array([[13, 14, 15, 16],\n",
       "       [17, 18, 19, 20],\n",
       "       [21, 22, 23, 24]])"
      ]
     },
     "execution_count": 64,
     "metadata": {},
     "output_type": "execute_result"
    }
   ],
   "source": [
    "b"
   ]
  },
  {
   "cell_type": "code",
   "execution_count": 65,
   "id": "c21434fa",
   "metadata": {},
   "outputs": [
    {
     "data": {
      "text/plain": [
       "array([[ 0,  1,  2,  3],\n",
       "       [ 4,  5,  6,  7],\n",
       "       [ 8,  9, 10, 11],\n",
       "       [13, 14, 15, 16],\n",
       "       [17, 18, 19, 20],\n",
       "       [21, 22, 23, 24]])"
      ]
     },
     "execution_count": 65,
     "metadata": {},
     "output_type": "execute_result"
    }
   ],
   "source": [
    "result0 = np.concatenate((a,b),axis=0)\n",
    "result0"
   ]
  },
  {
   "cell_type": "code",
   "execution_count": 66,
   "id": "b0b3717f",
   "metadata": {},
   "outputs": [
    {
     "data": {
      "text/plain": [
       "array([[ 0,  1,  2,  3, 13, 14, 15, 16],\n",
       "       [ 4,  5,  6,  7, 17, 18, 19, 20],\n",
       "       [ 8,  9, 10, 11, 21, 22, 23, 24]])"
      ]
     },
     "execution_count": 66,
     "metadata": {},
     "output_type": "execute_result"
    }
   ],
   "source": [
    "result1 = np.concatenate((a,b),axis=1)\n",
    "result1"
   ]
  },
  {
   "cell_type": "code",
   "execution_count": 68,
   "id": "6850ab9d",
   "metadata": {},
   "outputs": [],
   "source": [
    "stack0 = np.stack((a, b),axis=0)\n",
    "stack1 = np.stack((a,b),axis=1)\n",
    "stack2 = np.stack((a, b),axis=2)"
   ]
  },
  {
   "cell_type": "code",
   "execution_count": 69,
   "id": "59fbaa70",
   "metadata": {},
   "outputs": [
    {
     "data": {
      "text/plain": [
       "array([[ 0,  1,  2,  3],\n",
       "       [ 4,  5,  6,  7],\n",
       "       [ 8,  9, 10, 11]])"
      ]
     },
     "execution_count": 69,
     "metadata": {},
     "output_type": "execute_result"
    }
   ],
   "source": [
    "a"
   ]
  },
  {
   "cell_type": "code",
   "execution_count": 70,
   "id": "61dd45a6",
   "metadata": {},
   "outputs": [
    {
     "data": {
      "text/plain": [
       "array([[13, 14, 15, 16],\n",
       "       [17, 18, 19, 20],\n",
       "       [21, 22, 23, 24]])"
      ]
     },
     "execution_count": 70,
     "metadata": {},
     "output_type": "execute_result"
    }
   ],
   "source": [
    "b"
   ]
  },
  {
   "cell_type": "code",
   "execution_count": 71,
   "id": "69be34b0",
   "metadata": {},
   "outputs": [
    {
     "data": {
      "text/plain": [
       "array([[[ 0,  1,  2,  3],\n",
       "        [ 4,  5,  6,  7],\n",
       "        [ 8,  9, 10, 11]],\n",
       "\n",
       "       [[13, 14, 15, 16],\n",
       "        [17, 18, 19, 20],\n",
       "        [21, 22, 23, 24]]])"
      ]
     },
     "execution_count": 71,
     "metadata": {},
     "output_type": "execute_result"
    }
   ],
   "source": [
    "stack0"
   ]
  },
  {
   "cell_type": "code",
   "execution_count": 72,
   "id": "e1fb7a6f",
   "metadata": {},
   "outputs": [
    {
     "data": {
      "text/plain": [
       "array([[[ 0,  1,  2,  3],\n",
       "        [13, 14, 15, 16]],\n",
       "\n",
       "       [[ 4,  5,  6,  7],\n",
       "        [17, 18, 19, 20]],\n",
       "\n",
       "       [[ 8,  9, 10, 11],\n",
       "        [21, 22, 23, 24]]])"
      ]
     },
     "execution_count": 72,
     "metadata": {},
     "output_type": "execute_result"
    }
   ],
   "source": [
    "stack1"
   ]
  },
  {
   "cell_type": "code",
   "execution_count": 73,
   "id": "4bfb4ce3",
   "metadata": {},
   "outputs": [
    {
     "data": {
      "text/plain": [
       "array([[[ 0, 13],\n",
       "        [ 1, 14],\n",
       "        [ 2, 15],\n",
       "        [ 3, 16]],\n",
       "\n",
       "       [[ 4, 17],\n",
       "        [ 5, 18],\n",
       "        [ 6, 19],\n",
       "        [ 7, 20]],\n",
       "\n",
       "       [[ 8, 21],\n",
       "        [ 9, 22],\n",
       "        [10, 23],\n",
       "        [11, 24]]])"
      ]
     },
     "execution_count": 73,
     "metadata": {},
     "output_type": "execute_result"
    }
   ],
   "source": [
    "stack2"
   ]
  },
  {
   "cell_type": "code",
   "execution_count": 74,
   "id": "16808b55",
   "metadata": {},
   "outputs": [
    {
     "data": {
      "text/plain": [
       "array([[[20, 25, 28, 49, 93],\n",
       "        [24, 20, 26, 30, 74]],\n",
       "\n",
       "       [[63, 17, 86, 87,  3],\n",
       "        [81, 81, 89, 54, 61]],\n",
       "\n",
       "       [[80, 52, 92, 87, 92],\n",
       "        [16, 81, 85,  5, 71]],\n",
       "\n",
       "       [[75, 77, 45, 96, 59],\n",
       "        [53, 67, 51, 97, 19]]])"
      ]
     },
     "execution_count": 74,
     "metadata": {},
     "output_type": "execute_result"
    }
   ],
   "source": [
    "e = np.random.randint(1,99,size=40).reshape(4,2,5)\n",
    "e"
   ]
  },
  {
   "cell_type": "code",
   "execution_count": 75,
   "id": "15954e4d",
   "metadata": {},
   "outputs": [
    {
     "data": {
      "text/plain": [
       "[array([[[20, 25, 28, 49, 93],\n",
       "         [24, 20, 26, 30, 74]],\n",
       " \n",
       "        [[63, 17, 86, 87,  3],\n",
       "         [81, 81, 89, 54, 61]],\n",
       " \n",
       "        [[80, 52, 92, 87, 92],\n",
       "         [16, 81, 85,  5, 71]],\n",
       " \n",
       "        [[75, 77, 45, 96, 59],\n",
       "         [53, 67, 51, 97, 19]]])]"
      ]
     },
     "execution_count": 75,
     "metadata": {},
     "output_type": "execute_result"
    }
   ],
   "source": [
    "split0 = np.split(e, 1, axis=0)\n",
    "split0"
   ]
  },
  {
   "cell_type": "code",
   "execution_count": 77,
   "id": "3c9eef84",
   "metadata": {},
   "outputs": [
    {
     "data": {
      "text/plain": [
       "[array([[[20, 25, 28, 49, 93],\n",
       "         [24, 20, 26, 30, 74]]]),\n",
       " array([[[63, 17, 86, 87,  3],\n",
       "         [81, 81, 89, 54, 61]]]),\n",
       " array([[[80, 52, 92, 87, 92],\n",
       "         [16, 81, 85,  5, 71]]]),\n",
       " array([[[75, 77, 45, 96, 59],\n",
       "         [53, 67, 51, 97, 19]]])]"
      ]
     },
     "execution_count": 77,
     "metadata": {},
     "output_type": "execute_result"
    }
   ],
   "source": [
    "split01=np.split(e,4,axis=0)\n",
    "split01"
   ]
  },
  {
   "cell_type": "code",
   "execution_count": 78,
   "id": "84e6f4ef",
   "metadata": {},
   "outputs": [
    {
     "data": {
      "text/plain": [
       "[array([[[20, 25, 28, 49, 93],\n",
       "         [24, 20, 26, 30, 74]],\n",
       " \n",
       "        [[63, 17, 86, 87,  3],\n",
       "         [81, 81, 89, 54, 61]],\n",
       " \n",
       "        [[80, 52, 92, 87, 92],\n",
       "         [16, 81, 85,  5, 71]],\n",
       " \n",
       "        [[75, 77, 45, 96, 59],\n",
       "         [53, 67, 51, 97, 19]]])]"
      ]
     },
     "execution_count": 78,
     "metadata": {},
     "output_type": "execute_result"
    }
   ],
   "source": [
    "split1 = np.split(e,1,axis=1)\n",
    "split1"
   ]
  },
  {
   "cell_type": "code",
   "execution_count": 80,
   "id": "7234bd3d",
   "metadata": {},
   "outputs": [
    {
     "data": {
      "text/plain": [
       "[array([[[20, 25, 28, 49, 93]],\n",
       " \n",
       "        [[63, 17, 86, 87,  3]],\n",
       " \n",
       "        [[80, 52, 92, 87, 92]],\n",
       " \n",
       "        [[75, 77, 45, 96, 59]]]),\n",
       " array([[[24, 20, 26, 30, 74]],\n",
       " \n",
       "        [[81, 81, 89, 54, 61]],\n",
       " \n",
       "        [[16, 81, 85,  5, 71]],\n",
       " \n",
       "        [[53, 67, 51, 97, 19]]])]"
      ]
     },
     "execution_count": 80,
     "metadata": {},
     "output_type": "execute_result"
    }
   ],
   "source": [
    "split11 = np.split(e,2,axis=1)\n",
    "split11"
   ]
  },
  {
   "cell_type": "code",
   "execution_count": 81,
   "id": "4d01fd64",
   "metadata": {},
   "outputs": [
    {
     "data": {
      "text/plain": [
       "[array([[[20, 25, 28, 49, 93],\n",
       "         [24, 20, 26, 30, 74]],\n",
       " \n",
       "        [[63, 17, 86, 87,  3],\n",
       "         [81, 81, 89, 54, 61]],\n",
       " \n",
       "        [[80, 52, 92, 87, 92],\n",
       "         [16, 81, 85,  5, 71]],\n",
       " \n",
       "        [[75, 77, 45, 96, 59],\n",
       "         [53, 67, 51, 97, 19]]])]"
      ]
     },
     "execution_count": 81,
     "metadata": {},
     "output_type": "execute_result"
    }
   ],
   "source": [
    "split2 = np.split(e,1,axis=2)\n",
    "split2"
   ]
  },
  {
   "cell_type": "code",
   "execution_count": 83,
   "id": "5b357013",
   "metadata": {},
   "outputs": [
    {
     "data": {
      "text/plain": [
       "[array([[[20],\n",
       "         [24]],\n",
       " \n",
       "        [[63],\n",
       "         [81]],\n",
       " \n",
       "        [[80],\n",
       "         [16]],\n",
       " \n",
       "        [[75],\n",
       "         [53]]]),\n",
       " array([[[25],\n",
       "         [20]],\n",
       " \n",
       "        [[17],\n",
       "         [81]],\n",
       " \n",
       "        [[52],\n",
       "         [81]],\n",
       " \n",
       "        [[77],\n",
       "         [67]]]),\n",
       " array([[[28],\n",
       "         [26]],\n",
       " \n",
       "        [[86],\n",
       "         [89]],\n",
       " \n",
       "        [[92],\n",
       "         [85]],\n",
       " \n",
       "        [[45],\n",
       "         [51]]]),\n",
       " array([[[49],\n",
       "         [30]],\n",
       " \n",
       "        [[87],\n",
       "         [54]],\n",
       " \n",
       "        [[87],\n",
       "         [ 5]],\n",
       " \n",
       "        [[96],\n",
       "         [97]]]),\n",
       " array([[[93],\n",
       "         [74]],\n",
       " \n",
       "        [[ 3],\n",
       "         [61]],\n",
       " \n",
       "        [[92],\n",
       "         [71]],\n",
       " \n",
       "        [[59],\n",
       "         [19]]])]"
      ]
     },
     "execution_count": 83,
     "metadata": {},
     "output_type": "execute_result"
    }
   ],
   "source": [
    "split22 = np.split(e,5,axis=2)\n",
    "split22"
   ]
  },
  {
   "cell_type": "markdown",
   "id": "2bfa964c",
   "metadata": {},
   "source": [
    "# Array Sorting And Views"
   ]
  },
  {
   "cell_type": "code",
   "execution_count": 84,
   "id": "cfdc90bd",
   "metadata": {},
   "outputs": [
    {
     "data": {
      "text/plain": [
       "array([ 0,  1,  2,  3,  4,  5,  6,  7,  8,  9, 10, 11, 12, 13, 14, 15, 16,\n",
       "       17, 18, 19, 20, 21, 22, 23])"
      ]
     },
     "execution_count": 84,
     "metadata": {},
     "output_type": "execute_result"
    }
   ],
   "source": [
    "my_array = np.arange(24)\n",
    "my_array"
   ]
  },
  {
   "cell_type": "markdown",
   "id": "d057d930",
   "metadata": {},
   "source": [
    "#### shape vs reshape"
   ]
  },
  {
   "cell_type": "code",
   "execution_count": 85,
   "id": "75f14e7c",
   "metadata": {},
   "outputs": [
    {
     "data": {
      "text/plain": [
       "array([[[ 0,  1,  2,  3],\n",
       "        [ 4,  5,  6,  7],\n",
       "        [ 8,  9, 10, 11]],\n",
       "\n",
       "       [[12, 13, 14, 15],\n",
       "        [16, 17, 18, 19],\n",
       "        [20, 21, 22, 23]]])"
      ]
     },
     "execution_count": 85,
     "metadata": {},
     "output_type": "execute_result"
    }
   ],
   "source": [
    "my_array.shape = (2, 3, 4)\n",
    "my_array"
   ]
  },
  {
   "cell_type": "code",
   "execution_count": 86,
   "id": "e1c096f7",
   "metadata": {},
   "outputs": [
    {
     "data": {
      "text/plain": [
       "array([[ 0,  1,  2,  3,  4,  5,  6,  7,  8,  9, 10, 11],\n",
       "       [12, 13, 14, 15, 16, 17, 18, 19, 20, 21, 22, 23]])"
      ]
     },
     "execution_count": 86,
     "metadata": {},
     "output_type": "execute_result"
    }
   ],
   "source": [
    "reshape_array = my_array.reshape((2,12))\n",
    "reshape_array"
   ]
  },
  {
   "cell_type": "code",
   "execution_count": 87,
   "id": "7b71c7ab",
   "metadata": {},
   "outputs": [
    {
     "data": {
      "text/plain": [
       "array([[1234,    1,    2,    3,    4,    5,    6,    7,    8,    9,   10,\n",
       "          11],\n",
       "       [  12,   13,   14,   15,   16,   17,   18,   19,   20,   21,   22,\n",
       "          23]])"
      ]
     },
     "execution_count": 87,
     "metadata": {},
     "output_type": "execute_result"
    }
   ],
   "source": [
    "reshape_array[0,0]=1234\n",
    "reshape_array"
   ]
  },
  {
   "cell_type": "code",
   "execution_count": 88,
   "id": "c927fd25",
   "metadata": {},
   "outputs": [
    {
     "data": {
      "text/plain": [
       "array([[[1234,    1,    2,    3],\n",
       "        [   4,    5,    6,    7],\n",
       "        [   8,    9,   10,   11]],\n",
       "\n",
       "       [[  12,   13,   14,   15],\n",
       "        [  16,   17,   18,   19],\n",
       "        [  20,   21,   22,   23]]])"
      ]
     },
     "execution_count": 88,
     "metadata": {},
     "output_type": "execute_result"
    }
   ],
   "source": [
    "my_array"
   ]
  },
  {
   "cell_type": "markdown",
   "id": "cb685dd0",
   "metadata": {},
   "source": [
    "###### ravel , flatten\n",
    "returt array in vector"
   ]
  },
  {
   "cell_type": "code",
   "execution_count": 89,
   "id": "44b42cc5",
   "metadata": {},
   "outputs": [
    {
     "data": {
      "text/plain": [
       "array([1234,    1,    2,    3,    4,    5,    6,    7,    8,    9,   10,\n",
       "         11,   12,   13,   14,   15,   16,   17,   18,   19,   20,   21,\n",
       "         22,   23])"
      ]
     },
     "execution_count": 89,
     "metadata": {},
     "output_type": "execute_result"
    }
   ],
   "source": [
    "ravel_array=np.ravel(my_array)\n",
    "ravel_array"
   ]
  },
  {
   "cell_type": "code",
   "execution_count": 91,
   "id": "682a2be4",
   "metadata": {},
   "outputs": [
    {
     "data": {
      "text/plain": [
       "array([1234,    1,    2,    3,    4,    5,    6,    7,    8,    9,   10,\n",
       "         11,   12,   13,   14,   15,   16,   17,   18,   19,   20,   21,\n",
       "         22,   23])"
      ]
     },
     "execution_count": 91,
     "metadata": {},
     "output_type": "execute_result"
    }
   ],
   "source": [
    "flatten_array = my_array.flatten()\n",
    "flatten_array"
   ]
  },
  {
   "cell_type": "code",
   "execution_count": 93,
   "id": "10cf589b",
   "metadata": {},
   "outputs": [
    {
     "data": {
      "text/plain": [
       "array([1234,  144,    2,    3,    4,    5,    6,    7,    8,    9,   10,\n",
       "         11,   12,   13,   14,   15,   16,   17,   18,   19,   20,   21,\n",
       "         22,   23])"
      ]
     },
     "execution_count": 93,
     "metadata": {},
     "output_type": "execute_result"
    }
   ],
   "source": [
    "ravel_array[1]=144\n",
    "ravel_array"
   ]
  },
  {
   "cell_type": "code",
   "execution_count": 94,
   "id": "14e647bc",
   "metadata": {},
   "outputs": [
    {
     "data": {
      "text/plain": [
       "array([[[1234,  144,    2,    3],\n",
       "        [   4,    5,    6,    7],\n",
       "        [   8,    9,   10,   11]],\n",
       "\n",
       "       [[  12,   13,   14,   15],\n",
       "        [  16,   17,   18,   19],\n",
       "        [  20,   21,   22,   23]]])"
      ]
     },
     "execution_count": 94,
     "metadata": {},
     "output_type": "execute_result"
    }
   ],
   "source": [
    "my_array"
   ]
  },
  {
   "cell_type": "code",
   "execution_count": 95,
   "id": "b000b9a5",
   "metadata": {},
   "outputs": [
    {
     "data": {
      "text/plain": [
       "array([1234,    1, 1444,    3,    4,    5,    6,    7,    8,    9,   10,\n",
       "         11,   12,   13,   14,   15,   16,   17,   18,   19,   20,   21,\n",
       "         22,   23])"
      ]
     },
     "execution_count": 95,
     "metadata": {},
     "output_type": "execute_result"
    }
   ],
   "source": [
    "flatten_array[2]=1444\n",
    "flatten_array"
   ]
  },
  {
   "cell_type": "code",
   "execution_count": 96,
   "id": "24e814c9",
   "metadata": {},
   "outputs": [
    {
     "data": {
      "text/plain": [
       "array([[[1234,  144,    2,    3],\n",
       "        [   4,    5,    6,    7],\n",
       "        [   8,    9,   10,   11]],\n",
       "\n",
       "       [[  12,   13,   14,   15],\n",
       "        [  16,   17,   18,   19],\n",
       "        [  20,   21,   22,   23]]])"
      ]
     },
     "execution_count": 96,
     "metadata": {},
     "output_type": "execute_result"
    }
   ],
   "source": [
    "my_array"
   ]
  },
  {
   "cell_type": "code",
   "execution_count": 97,
   "id": "a92b30ea",
   "metadata": {},
   "outputs": [
    {
     "data": {
      "text/plain": [
       "[1234,\n",
       " 144,\n",
       " 2,\n",
       " 3,\n",
       " 4,\n",
       " 5,\n",
       " 6,\n",
       " 7,\n",
       " 8,\n",
       " 9,\n",
       " 10,\n",
       " 11,\n",
       " 12,\n",
       " 13,\n",
       " 14,\n",
       " 15,\n",
       " 16,\n",
       " 17,\n",
       " 18,\n",
       " 19,\n",
       " 20,\n",
       " 21,\n",
       " 22,\n",
       " 23]"
      ]
     },
     "execution_count": 97,
     "metadata": {},
     "output_type": "execute_result"
    }
   ],
   "source": [
    "flat_array = list(my_array.flat)\n",
    "flat_array"
   ]
  },
  {
   "cell_type": "code",
   "execution_count": 98,
   "id": "4bf50ea0",
   "metadata": {},
   "outputs": [
    {
     "data": {
      "text/plain": [
       "array([[[1234,  144,    2,    3],\n",
       "        [   4,    5,    6,    7],\n",
       "        [   8,    9,   10,   11]],\n",
       "\n",
       "       [[  12,   13,   14,   15],\n",
       "        [  16,   17,   18,   19],\n",
       "        [  20,   21,   22,   23]]])"
      ]
     },
     "execution_count": 98,
     "metadata": {},
     "output_type": "execute_result"
    }
   ],
   "source": [
    "my_array"
   ]
  },
  {
   "cell_type": "code",
   "execution_count": 99,
   "id": "1d19504a",
   "metadata": {},
   "outputs": [
    {
     "data": {
      "text/plain": [
       "array([[ 0,  1,  2,  3,  4,  5],\n",
       "       [ 6,  7,  8,  9, 10, 11],\n",
       "       [12, 13, 14, 15, 16, 17],\n",
       "       [18, 19, 20, 21, 22, 23]])"
      ]
     },
     "execution_count": 99,
     "metadata": {},
     "output_type": "execute_result"
    }
   ],
   "source": [
    "my_array.shape = (4, 6)\n",
    "my_array[0,0]=0\n",
    "my_array[0,1]=1\n",
    "my_array"
   ]
  },
  {
   "cell_type": "code",
   "execution_count": 100,
   "id": "03d59138",
   "metadata": {},
   "outputs": [
    {
     "data": {
      "text/plain": [
       "array([[[ 0,  1,  2,  3],\n",
       "        [ 4,  5,  6,  7],\n",
       "        [ 8,  9, 10, 11]],\n",
       "\n",
       "       [[12, 13, 14, 15],\n",
       "        [16, 17, 18, 19],\n",
       "        [20, 21, 22, 23]]])"
      ]
     },
     "execution_count": 100,
     "metadata": {},
     "output_type": "execute_result"
    }
   ],
   "source": [
    "my_3d_array = np.arange(24).reshape((2,3,4))\n",
    "my_3d_array"
   ]
  },
  {
   "cell_type": "markdown",
   "id": "f357da61",
   "metadata": {},
   "source": [
    "###### fliplr\n",
    "left to right"
   ]
  },
  {
   "cell_type": "code",
   "execution_count": 101,
   "id": "cd2aa68b",
   "metadata": {},
   "outputs": [
    {
     "data": {
      "text/plain": [
       "array([[ 5,  4,  3,  2,  1,  0],\n",
       "       [11, 10,  9,  8,  7,  6],\n",
       "       [17, 16, 15, 14, 13, 12],\n",
       "       [23, 22, 21, 20, 19, 18]])"
      ]
     },
     "execution_count": 101,
     "metadata": {},
     "output_type": "execute_result"
    }
   ],
   "source": [
    "np.fliplr(my_array)"
   ]
  },
  {
   "cell_type": "code",
   "execution_count": 102,
   "id": "63f4dcfd",
   "metadata": {},
   "outputs": [
    {
     "data": {
      "text/plain": [
       "array([[[ 8,  9, 10, 11],\n",
       "        [ 4,  5,  6,  7],\n",
       "        [ 0,  1,  2,  3]],\n",
       "\n",
       "       [[20, 21, 22, 23],\n",
       "        [16, 17, 18, 19],\n",
       "        [12, 13, 14, 15]]])"
      ]
     },
     "execution_count": 102,
     "metadata": {},
     "output_type": "execute_result"
    }
   ],
   "source": [
    "np.fliplr(my_3d_array)"
   ]
  },
  {
   "cell_type": "markdown",
   "id": "e3290769",
   "metadata": {},
   "source": [
    "###### flipud\n",
    "up to down"
   ]
  },
  {
   "cell_type": "code",
   "execution_count": 103,
   "id": "ffb71a71",
   "metadata": {},
   "outputs": [
    {
     "data": {
      "text/plain": [
       "array([[18, 19, 20, 21, 22, 23],\n",
       "       [12, 13, 14, 15, 16, 17],\n",
       "       [ 6,  7,  8,  9, 10, 11],\n",
       "       [ 0,  1,  2,  3,  4,  5]])"
      ]
     },
     "execution_count": 103,
     "metadata": {},
     "output_type": "execute_result"
    }
   ],
   "source": [
    "np.flipud(my_array)"
   ]
  },
  {
   "cell_type": "code",
   "execution_count": 104,
   "id": "3562939e",
   "metadata": {},
   "outputs": [
    {
     "data": {
      "text/plain": [
       "array([[[12, 13, 14, 15],\n",
       "        [16, 17, 18, 19],\n",
       "        [20, 21, 22, 23]],\n",
       "\n",
       "       [[ 0,  1,  2,  3],\n",
       "        [ 4,  5,  6,  7],\n",
       "        [ 8,  9, 10, 11]]])"
      ]
     },
     "execution_count": 104,
     "metadata": {},
     "output_type": "execute_result"
    }
   ],
   "source": [
    "np.flipud(my_3d_array)"
   ]
  },
  {
   "cell_type": "markdown",
   "id": "d38441e3",
   "metadata": {},
   "source": [
    "###### roll"
   ]
  },
  {
   "cell_type": "code",
   "execution_count": 105,
   "id": "c47e2315",
   "metadata": {},
   "outputs": [
    {
     "data": {
      "text/plain": [
       "array([[22, 23,  0,  1,  2,  3],\n",
       "       [ 4,  5,  6,  7,  8,  9],\n",
       "       [10, 11, 12, 13, 14, 15],\n",
       "       [16, 17, 18, 19, 20, 21]])"
      ]
     },
     "execution_count": 105,
     "metadata": {},
     "output_type": "execute_result"
    }
   ],
   "source": [
    "np.roll(my_array,2)"
   ]
  },
  {
   "cell_type": "code",
   "execution_count": 106,
   "id": "f02bc0fd",
   "metadata": {},
   "outputs": [
    {
     "data": {
      "text/plain": [
       "array([[[19, 20, 21, 22],\n",
       "        [23,  0,  1,  2],\n",
       "        [ 3,  4,  5,  6]],\n",
       "\n",
       "       [[ 7,  8,  9, 10],\n",
       "        [11, 12, 13, 14],\n",
       "        [15, 16, 17, 18]]])"
      ]
     },
     "execution_count": 106,
     "metadata": {},
     "output_type": "execute_result"
    }
   ],
   "source": [
    "np.roll(my_3d_array,5)"
   ]
  },
  {
   "cell_type": "code",
   "execution_count": 107,
   "id": "fdc8a3dd",
   "metadata": {},
   "outputs": [
    {
     "data": {
      "text/plain": [
       "array([[ 5, 11, 17, 23],\n",
       "       [ 4, 10, 16, 22],\n",
       "       [ 3,  9, 15, 21],\n",
       "       [ 2,  8, 14, 20],\n",
       "       [ 1,  7, 13, 19],\n",
       "       [ 0,  6, 12, 18]])"
      ]
     },
     "execution_count": 107,
     "metadata": {},
     "output_type": "execute_result"
    }
   ],
   "source": [
    "np.rot90(my_array)"
   ]
  },
  {
   "cell_type": "code",
   "execution_count": 108,
   "id": "e4f53b34",
   "metadata": {},
   "outputs": [
    {
     "data": {
      "text/plain": [
       "array([[18, 12,  6,  0],\n",
       "       [19, 13,  7,  1],\n",
       "       [20, 14,  8,  2],\n",
       "       [21, 15,  9,  3],\n",
       "       [22, 16, 10,  4],\n",
       "       [23, 17, 11,  5]])"
      ]
     },
     "execution_count": 108,
     "metadata": {},
     "output_type": "execute_result"
    }
   ],
   "source": [
    "np.rot90(my_array,k=-1)"
   ]
  },
  {
   "cell_type": "markdown",
   "id": "ffc574a4",
   "metadata": {},
   "source": [
    "# Transpose"
   ]
  },
  {
   "cell_type": "code",
   "execution_count": 2,
   "id": "e7bd5903",
   "metadata": {},
   "outputs": [],
   "source": [
    "my_vector = np.arange(6)\n",
    "my_2d_array = np.arange(12).reshape((3, 4))\n",
    "my_3d_array = np.arange(24).reshape((2, 3, 4))"
   ]
  },
  {
   "cell_type": "code",
   "execution_count": 3,
   "id": "4e7707a2",
   "metadata": {},
   "outputs": [
    {
     "data": {
      "text/plain": [
       "array([0, 1, 2, 3, 4, 5])"
      ]
     },
     "execution_count": 3,
     "metadata": {},
     "output_type": "execute_result"
    }
   ],
   "source": [
    "my_vector"
   ]
  },
  {
   "cell_type": "code",
   "execution_count": 4,
   "id": "c8984ba9",
   "metadata": {},
   "outputs": [
    {
     "data": {
      "text/plain": [
       "array([[ 0,  1,  2,  3],\n",
       "       [ 4,  5,  6,  7],\n",
       "       [ 8,  9, 10, 11]])"
      ]
     },
     "execution_count": 4,
     "metadata": {},
     "output_type": "execute_result"
    }
   ],
   "source": [
    "my_2d_array"
   ]
  },
  {
   "cell_type": "code",
   "execution_count": 5,
   "id": "21f4e90a",
   "metadata": {},
   "outputs": [
    {
     "data": {
      "text/plain": [
       "array([[[ 0,  1,  2,  3],\n",
       "        [ 4,  5,  6,  7],\n",
       "        [ 8,  9, 10, 11]],\n",
       "\n",
       "       [[12, 13, 14, 15],\n",
       "        [16, 17, 18, 19],\n",
       "        [20, 21, 22, 23]]])"
      ]
     },
     "execution_count": 5,
     "metadata": {},
     "output_type": "execute_result"
    }
   ],
   "source": [
    "my_3d_array"
   ]
  },
  {
   "cell_type": "code",
   "execution_count": 6,
   "id": "9116450b",
   "metadata": {},
   "outputs": [
    {
     "data": {
      "text/plain": [
       "(6,)"
      ]
     },
     "execution_count": 6,
     "metadata": {},
     "output_type": "execute_result"
    }
   ],
   "source": [
    "my_vector.shape"
   ]
  },
  {
   "cell_type": "code",
   "execution_count": 7,
   "id": "1b78793e",
   "metadata": {},
   "outputs": [
    {
     "data": {
      "text/plain": [
       "array([0, 1, 2, 3, 4, 5])"
      ]
     },
     "execution_count": 7,
     "metadata": {},
     "output_type": "execute_result"
    }
   ],
   "source": [
    "np.transpose(my_vector)"
   ]
  },
  {
   "cell_type": "code",
   "execution_count": 9,
   "id": "40f2450d",
   "metadata": {},
   "outputs": [
    {
     "data": {
      "text/plain": [
       "array([[0, 1, 2, 3, 4, 5]])"
      ]
     },
     "execution_count": 9,
     "metadata": {},
     "output_type": "execute_result"
    }
   ],
   "source": [
    "my_vector.shape = (1,6)\n",
    "my_vector"
   ]
  },
  {
   "cell_type": "code",
   "execution_count": 10,
   "id": "be01eedd",
   "metadata": {},
   "outputs": [
    {
     "data": {
      "text/plain": [
       "(1, 6)"
      ]
     },
     "execution_count": 10,
     "metadata": {},
     "output_type": "execute_result"
    }
   ],
   "source": [
    "my_vector.shape"
   ]
  },
  {
   "cell_type": "code",
   "execution_count": 11,
   "id": "abc2218f",
   "metadata": {},
   "outputs": [
    {
     "data": {
      "text/plain": [
       "array([[0],\n",
       "       [1],\n",
       "       [2],\n",
       "       [3],\n",
       "       [4],\n",
       "       [5]])"
      ]
     },
     "execution_count": 11,
     "metadata": {},
     "output_type": "execute_result"
    }
   ],
   "source": [
    "np.transpose(my_vector)"
   ]
  },
  {
   "cell_type": "code",
   "execution_count": 12,
   "id": "303ade11",
   "metadata": {},
   "outputs": [
    {
     "data": {
      "text/plain": [
       "array([[ 0,  4,  8],\n",
       "       [ 1,  5,  9],\n",
       "       [ 2,  6, 10],\n",
       "       [ 3,  7, 11]])"
      ]
     },
     "execution_count": 12,
     "metadata": {},
     "output_type": "execute_result"
    }
   ],
   "source": [
    "np.transpose(my_2d_array)"
   ]
  },
  {
   "cell_type": "code",
   "execution_count": 13,
   "id": "5012a6bf",
   "metadata": {},
   "outputs": [
    {
     "data": {
      "text/plain": [
       "array([[[ 0,  1,  2,  3],\n",
       "        [ 4,  5,  6,  7],\n",
       "        [ 8,  9, 10, 11]],\n",
       "\n",
       "       [[12, 13, 14, 15],\n",
       "        [16, 17, 18, 19],\n",
       "        [20, 21, 22, 23]]])"
      ]
     },
     "execution_count": 13,
     "metadata": {},
     "output_type": "execute_result"
    }
   ],
   "source": [
    "result = np.transpose(my_3d_array, axes=(0,1,2))\n",
    "result"
   ]
  },
  {
   "cell_type": "code",
   "execution_count": 14,
   "id": "9aa83a53",
   "metadata": {},
   "outputs": [
    {
     "data": {
      "text/plain": [
       "((2, 3, 4), (2, 3, 4))"
      ]
     },
     "execution_count": 14,
     "metadata": {},
     "output_type": "execute_result"
    }
   ],
   "source": [
    "my_3d_array.shape , result.shape"
   ]
  },
  {
   "cell_type": "code",
   "execution_count": 15,
   "id": "26a07902",
   "metadata": {},
   "outputs": [
    {
     "data": {
      "text/plain": [
       "array([[[ 0,  4,  8],\n",
       "        [12, 16, 20]],\n",
       "\n",
       "       [[ 1,  5,  9],\n",
       "        [13, 17, 21]],\n",
       "\n",
       "       [[ 2,  6, 10],\n",
       "        [14, 18, 22]],\n",
       "\n",
       "       [[ 3,  7, 11],\n",
       "        [15, 19, 23]]])"
      ]
     },
     "execution_count": 15,
     "metadata": {},
     "output_type": "execute_result"
    }
   ],
   "source": [
    "result = np.transpose(my_3d_array, axes=(2,0,1))\n",
    "result"
   ]
  },
  {
   "cell_type": "code",
   "execution_count": 16,
   "id": "63b8ec5d",
   "metadata": {},
   "outputs": [
    {
     "data": {
      "text/plain": [
       "((2, 3, 4), (4, 2, 3))"
      ]
     },
     "execution_count": 16,
     "metadata": {},
     "output_type": "execute_result"
    }
   ],
   "source": [
    "my_3d_array.shape , result.shape"
   ]
  },
  {
   "cell_type": "code",
   "execution_count": 18,
   "id": "8c095c06",
   "metadata": {},
   "outputs": [
    {
     "data": {
      "text/plain": [
       "((2, 3, 4), (3, 2, 4))"
      ]
     },
     "execution_count": 18,
     "metadata": {},
     "output_type": "execute_result"
    }
   ],
   "source": [
    "my_3d_array.shape , np.swapaxes(my_3d_array,1,0 ).shape"
   ]
  },
  {
   "cell_type": "code",
   "execution_count": 19,
   "id": "2f4aca47",
   "metadata": {},
   "outputs": [
    {
     "data": {
      "text/plain": [
       "((2, 3, 4), (4, 3, 2))"
      ]
     },
     "execution_count": 19,
     "metadata": {},
     "output_type": "execute_result"
    }
   ],
   "source": [
    "my_3d_array.shape , np.swapaxes(my_3d_array,2,0 ).shape"
   ]
  },
  {
   "cell_type": "code",
   "execution_count": 20,
   "id": "4a013693",
   "metadata": {},
   "outputs": [
    {
     "data": {
      "text/plain": [
       "array([[[ 0,  4,  8],\n",
       "        [12, 16, 20]],\n",
       "\n",
       "       [[ 1,  5,  9],\n",
       "        [13, 17, 21]],\n",
       "\n",
       "       [[ 2,  6, 10],\n",
       "        [14, 18, 22]],\n",
       "\n",
       "       [[ 3,  7, 11],\n",
       "        [15, 19, 23]]])"
      ]
     },
     "execution_count": 20,
     "metadata": {},
     "output_type": "execute_result"
    }
   ],
   "source": [
    "move =  np.moveaxis(my_3d_array,2,0)\n",
    "move"
   ]
  },
  {
   "cell_type": "code",
   "execution_count": 21,
   "id": "705078f0",
   "metadata": {},
   "outputs": [
    {
     "data": {
      "text/plain": [
       "((4, 2, 3), (2, 3, 4))"
      ]
     },
     "execution_count": 21,
     "metadata": {},
     "output_type": "execute_result"
    }
   ],
   "source": [
    "move.shape, my_3d_array.shape"
   ]
  },
  {
   "cell_type": "markdown",
   "id": "ab299f6e",
   "metadata": {},
   "source": [
    "# Dot Product"
   ]
  },
  {
   "cell_type": "code",
   "execution_count": 22,
   "id": "28c4622f",
   "metadata": {},
   "outputs": [],
   "source": [
    "a = np.random.randint(0,99,size=(3,4))\n",
    "b = np.random.randint(0, 99, size = (3,4))"
   ]
  },
  {
   "cell_type": "code",
   "execution_count": 23,
   "id": "3891fbd6",
   "metadata": {},
   "outputs": [
    {
     "data": {
      "text/plain": [
       "array([[21, 26, 95, 65],\n",
       "       [87, 41, 50, 81],\n",
       "       [73, 51, 27, 77]])"
      ]
     },
     "execution_count": 23,
     "metadata": {},
     "output_type": "execute_result"
    }
   ],
   "source": [
    "a"
   ]
  },
  {
   "cell_type": "code",
   "execution_count": 24,
   "id": "3ab10f14",
   "metadata": {},
   "outputs": [
    {
     "data": {
      "text/plain": [
       "array([[85,  2, 35, 69],\n",
       "       [64, 37, 96, 89],\n",
       "       [95, 76,  6, 62]])"
      ]
     },
     "execution_count": 24,
     "metadata": {},
     "output_type": "execute_result"
    }
   ],
   "source": [
    "b"
   ]
  },
  {
   "cell_type": "code",
   "execution_count": 25,
   "id": "b530656f",
   "metadata": {},
   "outputs": [
    {
     "data": {
      "text/plain": [
       "array([[1785,   52, 3325, 4485],\n",
       "       [5568, 1517, 4800, 7209],\n",
       "       [6935, 3876,  162, 4774]])"
      ]
     },
     "execution_count": 25,
     "metadata": {},
     "output_type": "execute_result"
    }
   ],
   "source": [
    "a*b"
   ]
  },
  {
   "cell_type": "code",
   "execution_count": 26,
   "id": "d4f1a708",
   "metadata": {},
   "outputs": [
    {
     "ename": "ValueError",
     "evalue": "shapes (3,4) and (3,4) not aligned: 4 (dim 1) != 3 (dim 0)",
     "output_type": "error",
     "traceback": [
      "\u001b[1;31m---------------------------------------------------------------------------\u001b[0m",
      "\u001b[1;31mValueError\u001b[0m                                Traceback (most recent call last)",
      "\u001b[1;32m~\\AppData\\Local\\Temp/ipykernel_11388/866309593.py\u001b[0m in \u001b[0;36m<module>\u001b[1;34m\u001b[0m\n\u001b[1;32m----> 1\u001b[1;33m \u001b[0mc\u001b[0m \u001b[1;33m=\u001b[0m \u001b[0mnp\u001b[0m\u001b[1;33m.\u001b[0m\u001b[0mdot\u001b[0m\u001b[1;33m(\u001b[0m\u001b[0ma\u001b[0m\u001b[1;33m,\u001b[0m\u001b[0mb\u001b[0m\u001b[1;33m)\u001b[0m\u001b[1;33m\u001b[0m\u001b[1;33m\u001b[0m\u001b[0m\n\u001b[0m",
      "\u001b[1;32m<__array_function__ internals>\u001b[0m in \u001b[0;36mdot\u001b[1;34m(*args, **kwargs)\u001b[0m\n",
      "\u001b[1;31mValueError\u001b[0m: shapes (3,4) and (3,4) not aligned: 4 (dim 1) != 3 (dim 0)"
     ]
    }
   ],
   "source": [
    "c = np.dot(a,b)"
   ]
  },
  {
   "cell_type": "code",
   "execution_count": 27,
   "id": "50ac0a30",
   "metadata": {},
   "outputs": [
    {
     "data": {
      "text/plain": [
       "array([[ 9647, 17211,  8571],\n",
       "       [14816, 19094, 16703],\n",
       "       [12565, 16004, 15747]])"
      ]
     },
     "execution_count": 27,
     "metadata": {},
     "output_type": "execute_result"
    }
   ],
   "source": [
    "c = np.dot(a, b.T)\n",
    "c"
   ]
  },
  {
   "cell_type": "code",
   "execution_count": null,
   "id": "1045b0ce",
   "metadata": {},
   "outputs": [],
   "source": []
  }
 ],
 "metadata": {
  "kernelspec": {
   "display_name": "Python 3 (ipykernel)",
   "language": "python",
   "name": "python3"
  },
  "language_info": {
   "codemirror_mode": {
    "name": "ipython",
    "version": 3
   },
   "file_extension": ".py",
   "mimetype": "text/x-python",
   "name": "python",
   "nbconvert_exporter": "python",
   "pygments_lexer": "ipython3",
   "version": "3.9.7"
  }
 },
 "nbformat": 4,
 "nbformat_minor": 5
}
