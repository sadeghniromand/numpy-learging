{
 "cells": [
  {
   "cell_type": "code",
   "execution_count": 2,
   "id": "72528f15",
   "metadata": {},
   "outputs": [],
   "source": [
    "import numpy as np"
   ]
  },
  {
   "cell_type": "markdown",
   "id": "3f38ee00",
   "metadata": {},
   "source": [
    "# Numpy DataType"
   ]
  },
  {
   "cell_type": "markdown",
   "id": "d1f92b50",
   "metadata": {},
   "source": [
    "#### create different ndarray\n",
    "one dimensional array(vector)"
   ]
  },
  {
   "cell_type": "code",
   "execution_count": 3,
   "id": "8e1ec01a",
   "metadata": {},
   "outputs": [
    {
     "data": {
      "text/plain": [
       "array([1, 2, 3])"
      ]
     },
     "execution_count": 3,
     "metadata": {},
     "output_type": "execute_result"
    }
   ],
   "source": [
    "a = np.array([1,2,3])\n",
    "a"
   ]
  },
  {
   "cell_type": "markdown",
   "id": "5fd01e62",
   "metadata": {},
   "source": [
    "two dimensional array"
   ]
  },
  {
   "cell_type": "code",
   "execution_count": 4,
   "id": "58a9949b",
   "metadata": {},
   "outputs": [
    {
     "data": {
      "text/plain": [
       "array([[1, 2, 3],\n",
       "       [4, 5, 6]])"
      ]
     },
     "execution_count": 4,
     "metadata": {},
     "output_type": "execute_result"
    }
   ],
   "source": [
    "b = np.array([[1, 2, 3], [4, 5, 6]])\n",
    "b"
   ]
  },
  {
   "cell_type": "markdown",
   "id": "2559bfe0",
   "metadata": {},
   "source": [
    "three dimensional array"
   ]
  },
  {
   "cell_type": "code",
   "execution_count": 6,
   "id": "b935f383",
   "metadata": {},
   "outputs": [
    {
     "data": {
      "text/plain": [
       "array([[[1, 2, 3],\n",
       "        [4, 5, 6]],\n",
       "\n",
       "       [[1, 2, 3],\n",
       "        [4, 5, 6]]])"
      ]
     },
     "execution_count": 6,
     "metadata": {},
     "output_type": "execute_result"
    }
   ],
   "source": [
    "d = np.array([[1, 2, 3], [4, 5, 6]])\n",
    "e = np.array([[1, 2, 3], [4, 5, 6]])\n",
    "c = np.array([d,e])\n",
    "c"
   ]
  },
  {
   "cell_type": "markdown",
   "id": "ca278f4c",
   "metadata": {},
   "source": [
    "##### ndim\n",
    "return dimensional array."
   ]
  },
  {
   "cell_type": "code",
   "execution_count": 7,
   "id": "6e96a087",
   "metadata": {},
   "outputs": [
    {
     "data": {
      "text/plain": [
       "1"
      ]
     },
     "execution_count": 7,
     "metadata": {},
     "output_type": "execute_result"
    }
   ],
   "source": [
    "a.ndim"
   ]
  },
  {
   "cell_type": "code",
   "execution_count": 8,
   "id": "72ee20b3",
   "metadata": {},
   "outputs": [
    {
     "data": {
      "text/plain": [
       "2"
      ]
     },
     "execution_count": 8,
     "metadata": {},
     "output_type": "execute_result"
    }
   ],
   "source": [
    "b.ndim"
   ]
  },
  {
   "cell_type": "code",
   "execution_count": 9,
   "id": "65bedd3a",
   "metadata": {},
   "outputs": [
    {
     "data": {
      "text/plain": [
       "3"
      ]
     },
     "execution_count": 9,
     "metadata": {},
     "output_type": "execute_result"
    }
   ],
   "source": [
    "c.ndim"
   ]
  },
  {
   "cell_type": "markdown",
   "id": "5450c56f",
   "metadata": {},
   "source": [
    "##### shape\n",
    "Return the shape of an array."
   ]
  },
  {
   "cell_type": "code",
   "execution_count": 13,
   "id": "71b7c5fe",
   "metadata": {},
   "outputs": [
    {
     "data": {
      "text/plain": [
       "array([1, 2, 3])"
      ]
     },
     "execution_count": 13,
     "metadata": {},
     "output_type": "execute_result"
    }
   ],
   "source": [
    "a"
   ]
  },
  {
   "cell_type": "code",
   "execution_count": 10,
   "id": "c0757df3",
   "metadata": {},
   "outputs": [
    {
     "data": {
      "text/plain": [
       "(3,)"
      ]
     },
     "execution_count": 10,
     "metadata": {},
     "output_type": "execute_result"
    }
   ],
   "source": [
    "a.shape"
   ]
  },
  {
   "cell_type": "code",
   "execution_count": 14,
   "id": "c83a4d79",
   "metadata": {},
   "outputs": [
    {
     "data": {
      "text/plain": [
       "array([[1, 2, 3],\n",
       "       [4, 5, 6]])"
      ]
     },
     "execution_count": 14,
     "metadata": {},
     "output_type": "execute_result"
    }
   ],
   "source": [
    "b"
   ]
  },
  {
   "cell_type": "code",
   "execution_count": 11,
   "id": "4aeb1954",
   "metadata": {},
   "outputs": [
    {
     "data": {
      "text/plain": [
       "(2, 3)"
      ]
     },
     "execution_count": 11,
     "metadata": {},
     "output_type": "execute_result"
    }
   ],
   "source": [
    "b.shape"
   ]
  },
  {
   "cell_type": "code",
   "execution_count": 15,
   "id": "46b4d1f2",
   "metadata": {},
   "outputs": [
    {
     "data": {
      "text/plain": [
       "array([[[1, 2, 3],\n",
       "        [4, 5, 6]],\n",
       "\n",
       "       [[1, 2, 3],\n",
       "        [4, 5, 6]]])"
      ]
     },
     "execution_count": 15,
     "metadata": {},
     "output_type": "execute_result"
    }
   ],
   "source": [
    "c"
   ]
  },
  {
   "cell_type": "code",
   "execution_count": 12,
   "id": "c2af6186",
   "metadata": {},
   "outputs": [
    {
     "data": {
      "text/plain": [
       "(2, 2, 3)"
      ]
     },
     "execution_count": 12,
     "metadata": {},
     "output_type": "execute_result"
    }
   ],
   "source": [
    "c.shape"
   ]
  },
  {
   "cell_type": "markdown",
   "id": "2c45c9e0",
   "metadata": {},
   "source": [
    "##### dtype\n",
    "Type of the data"
   ]
  },
  {
   "cell_type": "code",
   "execution_count": 16,
   "id": "0dc2e06b",
   "metadata": {},
   "outputs": [
    {
     "data": {
      "text/plain": [
       "dtype('int32')"
      ]
     },
     "execution_count": 16,
     "metadata": {},
     "output_type": "execute_result"
    }
   ],
   "source": [
    "a.dtype"
   ]
  },
  {
   "cell_type": "code",
   "execution_count": 17,
   "id": "7cb3b1b1",
   "metadata": {},
   "outputs": [
    {
     "data": {
      "text/plain": [
       "dtype('int32')"
      ]
     },
     "execution_count": 17,
     "metadata": {},
     "output_type": "execute_result"
    }
   ],
   "source": [
    "b.dtype"
   ]
  },
  {
   "cell_type": "code",
   "execution_count": 18,
   "id": "c488350c",
   "metadata": {},
   "outputs": [
    {
     "data": {
      "text/plain": [
       "dtype('int32')"
      ]
     },
     "execution_count": 18,
     "metadata": {},
     "output_type": "execute_result"
    }
   ],
   "source": [
    "c.dtype"
   ]
  },
  {
   "cell_type": "markdown",
   "id": "780dc6d2",
   "metadata": {},
   "source": [
    "##### size\n",
    "number of data"
   ]
  },
  {
   "cell_type": "code",
   "execution_count": 19,
   "id": "789a3ae9",
   "metadata": {},
   "outputs": [
    {
     "data": {
      "text/plain": [
       "3"
      ]
     },
     "execution_count": 19,
     "metadata": {},
     "output_type": "execute_result"
    }
   ],
   "source": [
    "a.size"
   ]
  },
  {
   "cell_type": "code",
   "execution_count": 20,
   "id": "cc1b06fa",
   "metadata": {},
   "outputs": [
    {
     "data": {
      "text/plain": [
       "6"
      ]
     },
     "execution_count": 20,
     "metadata": {},
     "output_type": "execute_result"
    }
   ],
   "source": [
    "b.size"
   ]
  },
  {
   "cell_type": "code",
   "execution_count": 21,
   "id": "81082c39",
   "metadata": {},
   "outputs": [
    {
     "data": {
      "text/plain": [
       "12"
      ]
     },
     "execution_count": 21,
     "metadata": {},
     "output_type": "execute_result"
    }
   ],
   "source": [
    "c.size"
   ]
  },
  {
   "cell_type": "markdown",
   "id": "8eeb9972",
   "metadata": {},
   "source": [
    "# Create Arrays"
   ]
  },
  {
   "cell_type": "markdown",
   "id": "352606a3",
   "metadata": {},
   "source": [
    "### Arange"
   ]
  },
  {
   "cell_type": "code",
   "execution_count": 4,
   "id": "cbffcd11",
   "metadata": {},
   "outputs": [
    {
     "data": {
      "text/plain": [
       "array([ 0,  2,  4,  6,  8, 10, 12, 14, 16, 18, 20])"
      ]
     },
     "execution_count": 4,
     "metadata": {},
     "output_type": "execute_result"
    }
   ],
   "source": [
    "arange_array = np.arange(0, 21, 2)\n",
    "arange_array"
   ]
  },
  {
   "cell_type": "markdown",
   "id": "102fde7b",
   "metadata": {},
   "source": [
    "### Linspace"
   ]
  },
  {
   "cell_type": "code",
   "execution_count": 5,
   "id": "5bbf29f7",
   "metadata": {},
   "outputs": [
    {
     "data": {
      "text/plain": [
       "array([ 0.,  5., 10., 15., 20.])"
      ]
     },
     "execution_count": 5,
     "metadata": {},
     "output_type": "execute_result"
    }
   ],
   "source": [
    "linspace_array = np.linspace(0, 20, 5)\n",
    "linspace_array"
   ]
  },
  {
   "cell_type": "code",
   "execution_count": 8,
   "id": "14c0c15c",
   "metadata": {},
   "outputs": [
    {
     "data": {
      "text/plain": [
       "(array([ 0.,  5., 10., 15., 20.]), 5.0)"
      ]
     },
     "execution_count": 8,
     "metadata": {},
     "output_type": "execute_result"
    }
   ],
   "source": [
    "linspace_array2 = np.linspace(0, 20, 5,retstep=True)\n",
    "linspace_array2"
   ]
  },
  {
   "cell_type": "code",
   "execution_count": 9,
   "id": "05a011f6",
   "metadata": {},
   "outputs": [
    {
     "data": {
      "text/plain": [
       "(array([ 0.        ,  2.85714286,  5.71428571,  8.57142857, 11.42857143,\n",
       "        14.28571429, 17.14285714, 20.        ]),\n",
       " 2.857142857142857)"
      ]
     },
     "execution_count": 9,
     "metadata": {},
     "output_type": "execute_result"
    }
   ],
   "source": [
    "linspace_array3 = np.linspace(0, 20, 8, retstep=True)\n",
    "linspace_array3"
   ]
  },
  {
   "cell_type": "markdown",
   "id": "01e1a821",
   "metadata": {},
   "source": [
    "### Ones"
   ]
  },
  {
   "cell_type": "code",
   "execution_count": 11,
   "id": "e7e6c0be",
   "metadata": {},
   "outputs": [
    {
     "data": {
      "text/plain": [
       "array([[1., 1., 1., 1.],\n",
       "       [1., 1., 1., 1.],\n",
       "       [1., 1., 1., 1.]])"
      ]
     },
     "execution_count": 11,
     "metadata": {},
     "output_type": "execute_result"
    }
   ],
   "source": [
    "ones_array = np.ones((3,4))\n",
    "ones_array"
   ]
  },
  {
   "cell_type": "code",
   "execution_count": 12,
   "id": "d1b8c6dd",
   "metadata": {},
   "outputs": [
    {
     "data": {
      "text/plain": [
       "array([[[1, 1, 1, 1],\n",
       "        [1, 1, 1, 1],\n",
       "        [1, 1, 1, 1]],\n",
       "\n",
       "       [[1, 1, 1, 1],\n",
       "        [1, 1, 1, 1],\n",
       "        [1, 1, 1, 1]]])"
      ]
     },
     "execution_count": 12,
     "metadata": {},
     "output_type": "execute_result"
    }
   ],
   "source": [
    "ones_array2 = np.ones((2,3,4), dtype=int)\n",
    "ones_array2"
   ]
  },
  {
   "cell_type": "markdown",
   "id": "0c07c871",
   "metadata": {},
   "source": [
    "### Zeros"
   ]
  },
  {
   "cell_type": "code",
   "execution_count": 13,
   "id": "73323104",
   "metadata": {},
   "outputs": [
    {
     "data": {
      "text/plain": [
       "array([[0., 0., 0., 0.],\n",
       "       [0., 0., 0., 0.],\n",
       "       [0., 0., 0., 0.]])"
      ]
     },
     "execution_count": 13,
     "metadata": {},
     "output_type": "execute_result"
    }
   ],
   "source": [
    "zero_array = np.zeros((3,4))\n",
    "zero_array"
   ]
  },
  {
   "cell_type": "markdown",
   "id": "cfcb9c9a",
   "metadata": {},
   "source": [
    "### Random"
   ]
  },
  {
   "cell_type": "code",
   "execution_count": 14,
   "id": "6af63f29",
   "metadata": {},
   "outputs": [
    {
     "data": {
      "text/plain": [
       "array([[0.96234101, 0.36930471, 0.58616163, 0.80885879],\n",
       "       [0.19166519, 0.68288441, 0.16148466, 0.95260143],\n",
       "       [0.39919586, 0.84518753, 0.98063847, 0.16984164]])"
      ]
     },
     "execution_count": 14,
     "metadata": {},
     "output_type": "execute_result"
    }
   ],
   "source": [
    "random_array = np.random.random(size=(3,4))\n",
    "random_array"
   ]
  },
  {
   "cell_type": "code",
   "execution_count": 16,
   "id": "11d4da52",
   "metadata": {},
   "outputs": [
    {
     "data": {
      "text/plain": [
       "array([[ 5,  8,  4],\n",
       "       [10,  9, 10],\n",
       "       [ 3,  5,  8],\n",
       "       [ 9, 10,  7]])"
      ]
     },
     "execution_count": 16,
     "metadata": {},
     "output_type": "execute_result"
    }
   ],
   "source": [
    "random_array2 = np.random.randint(1, 11, (4,3), dtype=int)\n",
    "random_array2"
   ]
  },
  {
   "cell_type": "markdown",
   "id": "cd56fcbf",
   "metadata": {},
   "source": [
    "### Seed\n",
    "save firs time random genarete"
   ]
  },
  {
   "cell_type": "code",
   "execution_count": 18,
   "id": "5cef35f9",
   "metadata": {},
   "outputs": [
    {
     "data": {
      "text/plain": [
       "array([[6, 4, 5],\n",
       "       [1, 8, 2],\n",
       "       [4, 6, 8],\n",
       "       [1, 1, 2]])"
      ]
     },
     "execution_count": 18,
     "metadata": {},
     "output_type": "execute_result"
    }
   ],
   "source": [
    "np.random.seed(1)\n",
    "seed_array = np.random.randint(1,9,(4,3))\n",
    "seed_array"
   ]
  },
  {
   "cell_type": "markdown",
   "id": "adfef2a4",
   "metadata": {},
   "source": [
    "# Index And Slicing"
   ]
  },
  {
   "cell_type": "code",
   "execution_count": 19,
   "id": "e97a973d",
   "metadata": {},
   "outputs": [
    {
     "data": {
      "text/plain": [
       "array([ 1,  2,  3,  4,  5,  6,  7,  8,  9, 10, 11, 12, 13, 14, 15])"
      ]
     },
     "execution_count": 19,
     "metadata": {},
     "output_type": "execute_result"
    }
   ],
   "source": [
    "ar = np.arange(1,16)\n",
    "ar"
   ]
  },
  {
   "cell_type": "code",
   "execution_count": 20,
   "id": "9a1757a3",
   "metadata": {},
   "outputs": [
    {
     "data": {
      "text/plain": [
       "1"
      ]
     },
     "execution_count": 20,
     "metadata": {},
     "output_type": "execute_result"
    }
   ],
   "source": [
    "ar[0]"
   ]
  },
  {
   "cell_type": "code",
   "execution_count": 21,
   "id": "4f2c2217",
   "metadata": {},
   "outputs": [
    {
     "data": {
      "text/plain": [
       "11"
      ]
     },
     "execution_count": 21,
     "metadata": {},
     "output_type": "execute_result"
    }
   ],
   "source": [
    "ar[-5]"
   ]
  },
  {
   "cell_type": "code",
   "execution_count": 22,
   "id": "42f1c1c6",
   "metadata": {},
   "outputs": [
    {
     "data": {
      "text/plain": [
       "array([  1,   2, 150,   4,   5,   6,   7,   8,   9,  10,  11,  12,  13,\n",
       "        14,  15])"
      ]
     },
     "execution_count": 22,
     "metadata": {},
     "output_type": "execute_result"
    }
   ],
   "source": [
    "ar[2] = 150\n",
    "ar"
   ]
  },
  {
   "cell_type": "code",
   "execution_count": 23,
   "id": "b50ebc2e",
   "metadata": {},
   "outputs": [
    {
     "data": {
      "text/plain": [
       "array([ 1,  2,  3,  4,  5,  6,  7,  8,  9, 10, 11, 12, 13, 14, 15, 16, 17,\n",
       "       18, 19, 20])"
      ]
     },
     "execution_count": 23,
     "metadata": {},
     "output_type": "execute_result"
    }
   ],
   "source": [
    "ar2 = np.arange(1,21)\n",
    "ar2"
   ]
  },
  {
   "cell_type": "code",
   "execution_count": 25,
   "id": "a8ab7d6b",
   "metadata": {},
   "outputs": [
    {
     "data": {
      "text/plain": [
       "array([[ 1,  2,  3,  4,  5],\n",
       "       [ 6,  7,  8,  9, 10],\n",
       "       [11, 12, 13, 14, 15],\n",
       "       [16, 17, 18, 19, 20]])"
      ]
     },
     "execution_count": 25,
     "metadata": {},
     "output_type": "execute_result"
    }
   ],
   "source": [
    "ar2.shape = (4, 5)\n",
    "ar2"
   ]
  },
  {
   "cell_type": "code",
   "execution_count": 26,
   "id": "c61c9f54",
   "metadata": {},
   "outputs": [
    {
     "data": {
      "text/plain": [
       "array([ 6,  7,  8,  9, 10])"
      ]
     },
     "execution_count": 26,
     "metadata": {},
     "output_type": "execute_result"
    }
   ],
   "source": [
    "ar2[1]"
   ]
  },
  {
   "cell_type": "code",
   "execution_count": 27,
   "id": "d5311682",
   "metadata": {},
   "outputs": [
    {
     "data": {
      "text/plain": [
       "8"
      ]
     },
     "execution_count": 27,
     "metadata": {},
     "output_type": "execute_result"
    }
   ],
   "source": [
    "ar2[1][2]"
   ]
  },
  {
   "cell_type": "code",
   "execution_count": 28,
   "id": "0366b912",
   "metadata": {},
   "outputs": [
    {
     "data": {
      "text/plain": [
       "8"
      ]
     },
     "execution_count": 28,
     "metadata": {},
     "output_type": "execute_result"
    }
   ],
   "source": [
    "ar2[1,2]"
   ]
  },
  {
   "cell_type": "code",
   "execution_count": 29,
   "id": "aa338fc9",
   "metadata": {},
   "outputs": [
    {
     "data": {
      "text/plain": [
       "array([[ 1,  2],\n",
       "       [ 6,  7],\n",
       "       [11, 12],\n",
       "       [16, 17]])"
      ]
     },
     "execution_count": 29,
     "metadata": {},
     "output_type": "execute_result"
    }
   ],
   "source": [
    "ar2[:, :2]"
   ]
  },
  {
   "cell_type": "code",
   "execution_count": 30,
   "id": "816d70d7",
   "metadata": {},
   "outputs": [
    {
     "data": {
      "text/plain": [
       "array([[[5, 8, 6, 5],\n",
       "        [7, 2, 3, 5],\n",
       "        [7, 6, 3, 5]],\n",
       "\n",
       "       [[4, 5, 3, 5],\n",
       "        [6, 7, 3, 5],\n",
       "        [8, 8, 2, 2]]])"
      ]
     },
     "execution_count": 30,
     "metadata": {},
     "output_type": "execute_result"
    }
   ],
   "source": [
    "ar3 = np.random.randint(1, 9, size=(2, 3, 4))\n",
    "ar3"
   ]
  },
  {
   "cell_type": "code",
   "execution_count": 31,
   "id": "8288fc11",
   "metadata": {},
   "outputs": [
    {
     "data": {
      "text/plain": [
       "array([[5, 8, 6, 5],\n",
       "       [7, 2, 3, 5],\n",
       "       [7, 6, 3, 5]])"
      ]
     },
     "execution_count": 31,
     "metadata": {},
     "output_type": "execute_result"
    }
   ],
   "source": [
    "ar3[0]"
   ]
  },
  {
   "cell_type": "code",
   "execution_count": 32,
   "id": "39c9bacc",
   "metadata": {},
   "outputs": [
    {
     "data": {
      "text/plain": [
       "array([7, 2, 3, 5])"
      ]
     },
     "execution_count": 32,
     "metadata": {},
     "output_type": "execute_result"
    }
   ],
   "source": [
    "ar3[0][1]"
   ]
  },
  {
   "cell_type": "code",
   "execution_count": 33,
   "id": "a81cfa3a",
   "metadata": {},
   "outputs": [
    {
     "data": {
      "text/plain": [
       "5"
      ]
     },
     "execution_count": 33,
     "metadata": {},
     "output_type": "execute_result"
    }
   ],
   "source": [
    "ar3[0][1][-1]"
   ]
  },
  {
   "cell_type": "code",
   "execution_count": 35,
   "id": "2270ad8c",
   "metadata": {},
   "outputs": [
    {
     "data": {
      "text/plain": [
       "3"
      ]
     },
     "execution_count": 35,
     "metadata": {},
     "output_type": "execute_result"
    }
   ],
   "source": [
    "ar3[1, 1, 2]"
   ]
  },
  {
   "cell_type": "code",
   "execution_count": 36,
   "id": "640de033",
   "metadata": {},
   "outputs": [
    {
     "data": {
      "text/plain": [
       "array([[[6, 5],\n",
       "        [3, 5],\n",
       "        [3, 5]],\n",
       "\n",
       "       [[3, 5],\n",
       "        [3, 5],\n",
       "        [2, 2]]])"
      ]
     },
     "execution_count": 36,
     "metadata": {},
     "output_type": "execute_result"
    }
   ],
   "source": [
    "ar3[:, :, -2:]"
   ]
  },
  {
   "cell_type": "markdown",
   "id": "1689b5a7",
   "metadata": {},
   "source": [
    "# Masked Array"
   ]
  },
  {
   "cell_type": "code",
   "execution_count": 37,
   "id": "5964e07d",
   "metadata": {},
   "outputs": [
    {
     "data": {
      "text/plain": [
       "array([95, 97, 87, 14, 10,  8, 64, 62, 23, 58,  2,  1, 61, 82,  9, 89, 14,\n",
       "       48, 73, 31, 72,  4, 71, 22, 50, 58,  4, 69, 25, 44, 77, 27, 53, 81,\n",
       "       42, 83, 16, 65, 69, 26, 99, 88,  8, 27, 26, 23, 10, 68, 24, 28, 38,\n",
       "       58, 84, 39,  9, 33, 35, 11, 24, 16])"
      ]
     },
     "execution_count": 37,
     "metadata": {},
     "output_type": "execute_result"
    }
   ],
   "source": [
    "ary = np.random.randint(1,100,60)\n",
    "ary"
   ]
  },
  {
   "cell_type": "code",
   "execution_count": 39,
   "id": "d67d90f2",
   "metadata": {},
   "outputs": [
    {
     "data": {
      "text/plain": [
       "(60,)"
      ]
     },
     "execution_count": 39,
     "metadata": {},
     "output_type": "execute_result"
    }
   ],
   "source": [
    "ary.shape"
   ]
  },
  {
   "cell_type": "code",
   "execution_count": 41,
   "id": "d91e0183",
   "metadata": {},
   "outputs": [
    {
     "data": {
      "text/plain": [
       "array([[[95, 97, 87, 14, 10,  8],\n",
       "        [64, 62, 23, 58,  2,  1],\n",
       "        [61, 82,  9, 89, 14, 48],\n",
       "        [73, 31, 72,  4, 71, 22],\n",
       "        [50, 58,  4, 69, 25, 44]],\n",
       "\n",
       "       [[77, 27, 53, 81, 42, 83],\n",
       "        [16, 65, 69, 26, 99, 88],\n",
       "        [ 8, 27, 26, 23, 10, 68],\n",
       "        [24, 28, 38, 58, 84, 39],\n",
       "        [ 9, 33, 35, 11, 24, 16]]])"
      ]
     },
     "execution_count": 41,
     "metadata": {},
     "output_type": "execute_result"
    }
   ],
   "source": [
    "ary = ary.reshape((2,5,6))\n",
    "ary"
   ]
  },
  {
   "cell_type": "code",
   "execution_count": 43,
   "id": "665f01d8",
   "metadata": {},
   "outputs": [
    {
     "data": {
      "text/plain": [
       "array([ 1,  2,  4,  8,  9, 10, 11, 14, 16, 22, 23, 24, 25, 26, 27, 28, 31,\n",
       "       33, 35, 38, 39, 42, 44, 48, 50, 53, 58, 61, 62, 64, 65, 68, 69, 71,\n",
       "       72, 73, 77, 81, 82, 83, 84, 87, 88, 89, 95, 97, 99])"
      ]
     },
     "execution_count": 43,
     "metadata": {},
     "output_type": "execute_result"
    }
   ],
   "source": [
    "unique_array = np.unique(ary)\n",
    "unique_array"
   ]
  },
  {
   "cell_type": "code",
   "execution_count": 44,
   "id": "e4eb438c",
   "metadata": {},
   "outputs": [
    {
     "data": {
      "text/plain": [
       "array([95, 97, 87, 64, 62, 58, 61, 82, 89, 48, 73, 31, 72, 71, 50, 58, 69,\n",
       "       44, 77, 53, 81, 42, 83, 65, 69, 99, 88, 68, 38, 58, 84, 39, 33, 35])"
      ]
     },
     "execution_count": 44,
     "metadata": {},
     "output_type": "execute_result"
    }
   ],
   "source": [
    "ary[ary > 30]"
   ]
  },
  {
   "cell_type": "code",
   "execution_count": 47,
   "id": "7ed32068",
   "metadata": {},
   "outputs": [
    {
     "data": {
      "text/plain": [
       "array([[[ True,  True,  True, False, False, False],\n",
       "        [ True,  True, False,  True, False, False],\n",
       "        [ True,  True, False,  True, False,  True],\n",
       "        [ True,  True,  True, False,  True, False],\n",
       "        [ True,  True, False,  True, False,  True]],\n",
       "\n",
       "       [[ True, False,  True,  True,  True,  True],\n",
       "        [False,  True,  True, False,  True,  True],\n",
       "        [False, False, False, False, False,  True],\n",
       "        [False, False,  True,  True,  True,  True],\n",
       "        [False,  True,  True, False, False, False]]])"
      ]
     },
     "execution_count": 47,
     "metadata": {},
     "output_type": "execute_result"
    }
   ],
   "source": [
    "greater_than_30 = ary > 30\n",
    "greater_than_30"
   ]
  },
  {
   "cell_type": "code",
   "execution_count": 48,
   "id": "46c5aa75",
   "metadata": {},
   "outputs": [
    {
     "data": {
      "text/plain": [
       "array([95, 97, 87, 64, 62, 58, 61, 82, 89, 48, 73, 31, 72, 71, 50, 58, 69,\n",
       "       44, 77, 53, 81, 42, 83, 65, 69, 99, 88, 68, 38, 58, 84, 39, 33, 35])"
      ]
     },
     "execution_count": 48,
     "metadata": {},
     "output_type": "execute_result"
    }
   ],
   "source": [
    "ary[greater_than_30]"
   ]
  },
  {
   "cell_type": "code",
   "execution_count": 51,
   "id": "44ba9578",
   "metadata": {},
   "outputs": [
    {
     "data": {
      "text/plain": [
       "array([[[False, False, False,  True,  True,  True],\n",
       "        [ True,  True, False,  True,  True, False],\n",
       "        [False,  True, False, False,  True,  True],\n",
       "        [False, False,  True,  True, False,  True],\n",
       "        [ True,  True,  True, False, False,  True]],\n",
       "\n",
       "       [[False, False, False, False,  True, False],\n",
       "        [ True, False, False,  True, False,  True],\n",
       "        [ True, False,  True, False,  True,  True],\n",
       "        [ True,  True,  True,  True,  True, False],\n",
       "        [False, False, False, False,  True,  True]]])"
      ]
     },
     "execution_count": 51,
     "metadata": {},
     "output_type": "execute_result"
    }
   ],
   "source": [
    "even_elements = ary % 2 ==0\n",
    "even_elements"
   ]
  },
  {
   "cell_type": "code",
   "execution_count": 52,
   "id": "9195488c",
   "metadata": {},
   "outputs": [
    {
     "data": {
      "text/plain": [
       "array([64, 62, 58, 82, 48, 72, 50, 58, 44, 42, 88, 68, 38, 58, 84])"
      ]
     },
     "execution_count": 52,
     "metadata": {},
     "output_type": "execute_result"
    }
   ],
   "source": [
    "final_mask = np.logical_and(greater_than_30,even_elements)\n",
    "ary[final_mask]"
   ]
  },
  {
   "cell_type": "code",
   "execution_count": 55,
   "id": "fd3705e4",
   "metadata": {},
   "outputs": [
    {
     "data": {
      "text/plain": [
       "array([95, 97, 87, 14, 10,  8, 64, 62, 58,  2,  1, 61, 82,  9, 89, 14, 48,\n",
       "       73, 31, 72,  4, 71, 50, 58,  4, 69, 44, 77, 53, 81, 42, 83, 16, 65,\n",
       "       69, 99, 88,  8, 10, 68, 38, 58, 84, 39,  9, 33, 35, 11, 16])"
      ]
     },
     "execution_count": 55,
     "metadata": {},
     "output_type": "execute_result"
    }
   ],
   "source": [
    "less_than_20 = ary < 20\n",
    "result = np.logical_or(greater_than_30,less_than_20)\n",
    "ary[result]"
   ]
  },
  {
   "cell_type": "code",
   "execution_count": null,
   "id": "a0e3481b",
   "metadata": {},
   "outputs": [],
   "source": []
  }
 ],
 "metadata": {
  "kernelspec": {
   "display_name": "Python 3 (ipykernel)",
   "language": "python",
   "name": "python3"
  },
  "language_info": {
   "codemirror_mode": {
    "name": "ipython",
    "version": 3
   },
   "file_extension": ".py",
   "mimetype": "text/x-python",
   "name": "python",
   "nbconvert_exporter": "python",
   "pygments_lexer": "ipython3",
   "version": "3.9.7"
  }
 },
 "nbformat": 4,
 "nbformat_minor": 5
}
