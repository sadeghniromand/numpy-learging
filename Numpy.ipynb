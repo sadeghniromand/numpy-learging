{
 "cells": [
  {
   "cell_type": "code",
   "execution_count": 1,
   "id": "72528f15",
   "metadata": {},
   "outputs": [],
   "source": [
    "import numpy as np"
   ]
  },
  {
   "cell_type": "markdown",
   "id": "3f38ee00",
   "metadata": {},
   "source": [
    "# Numpy DataType"
   ]
  },
  {
   "cell_type": "markdown",
   "id": "d1f92b50",
   "metadata": {},
   "source": [
    "#### create different ndarray\n",
    "one dimensional array(vector)"
   ]
  },
  {
   "cell_type": "code",
   "execution_count": 3,
   "id": "8e1ec01a",
   "metadata": {},
   "outputs": [
    {
     "data": {
      "text/plain": [
       "array([1, 2, 3])"
      ]
     },
     "execution_count": 3,
     "metadata": {},
     "output_type": "execute_result"
    }
   ],
   "source": [
    "a = np.array([1,2,3])\n",
    "a"
   ]
  },
  {
   "cell_type": "markdown",
   "id": "5fd01e62",
   "metadata": {},
   "source": [
    "two dimensional array"
   ]
  },
  {
   "cell_type": "code",
   "execution_count": 4,
   "id": "58a9949b",
   "metadata": {},
   "outputs": [
    {
     "data": {
      "text/plain": [
       "array([[1, 2, 3],\n",
       "       [4, 5, 6]])"
      ]
     },
     "execution_count": 4,
     "metadata": {},
     "output_type": "execute_result"
    }
   ],
   "source": [
    "b = np.array([[1, 2, 3], [4, 5, 6]])\n",
    "b"
   ]
  },
  {
   "cell_type": "markdown",
   "id": "2559bfe0",
   "metadata": {},
   "source": [
    "three dimensional array"
   ]
  },
  {
   "cell_type": "code",
   "execution_count": 6,
   "id": "b935f383",
   "metadata": {},
   "outputs": [
    {
     "data": {
      "text/plain": [
       "array([[[1, 2, 3],\n",
       "        [4, 5, 6]],\n",
       "\n",
       "       [[1, 2, 3],\n",
       "        [4, 5, 6]]])"
      ]
     },
     "execution_count": 6,
     "metadata": {},
     "output_type": "execute_result"
    }
   ],
   "source": [
    "d = np.array([[1, 2, 3], [4, 5, 6]])\n",
    "e = np.array([[1, 2, 3], [4, 5, 6]])\n",
    "c = np.array([d,e])\n",
    "c"
   ]
  },
  {
   "cell_type": "markdown",
   "id": "ca278f4c",
   "metadata": {},
   "source": [
    "##### ndim\n",
    "return dimensional array."
   ]
  },
  {
   "cell_type": "code",
   "execution_count": 7,
   "id": "6e96a087",
   "metadata": {},
   "outputs": [
    {
     "data": {
      "text/plain": [
       "1"
      ]
     },
     "execution_count": 7,
     "metadata": {},
     "output_type": "execute_result"
    }
   ],
   "source": [
    "a.ndim"
   ]
  },
  {
   "cell_type": "code",
   "execution_count": 8,
   "id": "72ee20b3",
   "metadata": {},
   "outputs": [
    {
     "data": {
      "text/plain": [
       "2"
      ]
     },
     "execution_count": 8,
     "metadata": {},
     "output_type": "execute_result"
    }
   ],
   "source": [
    "b.ndim"
   ]
  },
  {
   "cell_type": "code",
   "execution_count": 9,
   "id": "65bedd3a",
   "metadata": {},
   "outputs": [
    {
     "data": {
      "text/plain": [
       "3"
      ]
     },
     "execution_count": 9,
     "metadata": {},
     "output_type": "execute_result"
    }
   ],
   "source": [
    "c.ndim"
   ]
  },
  {
   "cell_type": "markdown",
   "id": "5450c56f",
   "metadata": {},
   "source": [
    "##### shape\n",
    "Return the shape of an array."
   ]
  },
  {
   "cell_type": "code",
   "execution_count": 13,
   "id": "71b7c5fe",
   "metadata": {},
   "outputs": [
    {
     "data": {
      "text/plain": [
       "array([1, 2, 3])"
      ]
     },
     "execution_count": 13,
     "metadata": {},
     "output_type": "execute_result"
    }
   ],
   "source": [
    "a"
   ]
  },
  {
   "cell_type": "code",
   "execution_count": 10,
   "id": "c0757df3",
   "metadata": {},
   "outputs": [
    {
     "data": {
      "text/plain": [
       "(3,)"
      ]
     },
     "execution_count": 10,
     "metadata": {},
     "output_type": "execute_result"
    }
   ],
   "source": [
    "a.shape"
   ]
  },
  {
   "cell_type": "code",
   "execution_count": 14,
   "id": "c83a4d79",
   "metadata": {},
   "outputs": [
    {
     "data": {
      "text/plain": [
       "array([[1, 2, 3],\n",
       "       [4, 5, 6]])"
      ]
     },
     "execution_count": 14,
     "metadata": {},
     "output_type": "execute_result"
    }
   ],
   "source": [
    "b"
   ]
  },
  {
   "cell_type": "code",
   "execution_count": 11,
   "id": "4aeb1954",
   "metadata": {},
   "outputs": [
    {
     "data": {
      "text/plain": [
       "(2, 3)"
      ]
     },
     "execution_count": 11,
     "metadata": {},
     "output_type": "execute_result"
    }
   ],
   "source": [
    "b.shape"
   ]
  },
  {
   "cell_type": "code",
   "execution_count": 15,
   "id": "46b4d1f2",
   "metadata": {},
   "outputs": [
    {
     "data": {
      "text/plain": [
       "array([[[1, 2, 3],\n",
       "        [4, 5, 6]],\n",
       "\n",
       "       [[1, 2, 3],\n",
       "        [4, 5, 6]]])"
      ]
     },
     "execution_count": 15,
     "metadata": {},
     "output_type": "execute_result"
    }
   ],
   "source": [
    "c"
   ]
  },
  {
   "cell_type": "code",
   "execution_count": 12,
   "id": "c2af6186",
   "metadata": {},
   "outputs": [
    {
     "data": {
      "text/plain": [
       "(2, 2, 3)"
      ]
     },
     "execution_count": 12,
     "metadata": {},
     "output_type": "execute_result"
    }
   ],
   "source": [
    "c.shape"
   ]
  },
  {
   "cell_type": "markdown",
   "id": "2c45c9e0",
   "metadata": {},
   "source": [
    "##### dtype\n",
    "Type of the data"
   ]
  },
  {
   "cell_type": "code",
   "execution_count": 16,
   "id": "0dc2e06b",
   "metadata": {},
   "outputs": [
    {
     "data": {
      "text/plain": [
       "dtype('int32')"
      ]
     },
     "execution_count": 16,
     "metadata": {},
     "output_type": "execute_result"
    }
   ],
   "source": [
    "a.dtype"
   ]
  },
  {
   "cell_type": "code",
   "execution_count": 17,
   "id": "7cb3b1b1",
   "metadata": {},
   "outputs": [
    {
     "data": {
      "text/plain": [
       "dtype('int32')"
      ]
     },
     "execution_count": 17,
     "metadata": {},
     "output_type": "execute_result"
    }
   ],
   "source": [
    "b.dtype"
   ]
  },
  {
   "cell_type": "code",
   "execution_count": 18,
   "id": "c488350c",
   "metadata": {},
   "outputs": [
    {
     "data": {
      "text/plain": [
       "dtype('int32')"
      ]
     },
     "execution_count": 18,
     "metadata": {},
     "output_type": "execute_result"
    }
   ],
   "source": [
    "c.dtype"
   ]
  },
  {
   "cell_type": "markdown",
   "id": "780dc6d2",
   "metadata": {},
   "source": [
    "##### size\n",
    "number of data"
   ]
  },
  {
   "cell_type": "code",
   "execution_count": 19,
   "id": "789a3ae9",
   "metadata": {},
   "outputs": [
    {
     "data": {
      "text/plain": [
       "3"
      ]
     },
     "execution_count": 19,
     "metadata": {},
     "output_type": "execute_result"
    }
   ],
   "source": [
    "a.size"
   ]
  },
  {
   "cell_type": "code",
   "execution_count": 20,
   "id": "cc1b06fa",
   "metadata": {},
   "outputs": [
    {
     "data": {
      "text/plain": [
       "6"
      ]
     },
     "execution_count": 20,
     "metadata": {},
     "output_type": "execute_result"
    }
   ],
   "source": [
    "b.size"
   ]
  },
  {
   "cell_type": "code",
   "execution_count": 21,
   "id": "81082c39",
   "metadata": {},
   "outputs": [
    {
     "data": {
      "text/plain": [
       "12"
      ]
     },
     "execution_count": 21,
     "metadata": {},
     "output_type": "execute_result"
    }
   ],
   "source": [
    "c.size"
   ]
  },
  {
   "cell_type": "markdown",
   "id": "8eeb9972",
   "metadata": {},
   "source": [
    "# Create Arrays"
   ]
  },
  {
   "cell_type": "markdown",
   "id": "352606a3",
   "metadata": {},
   "source": [
    "### Arange"
   ]
  },
  {
   "cell_type": "code",
   "execution_count": 4,
   "id": "cbffcd11",
   "metadata": {},
   "outputs": [
    {
     "data": {
      "text/plain": [
       "array([ 0,  2,  4,  6,  8, 10, 12, 14, 16, 18, 20])"
      ]
     },
     "execution_count": 4,
     "metadata": {},
     "output_type": "execute_result"
    }
   ],
   "source": [
    "arange_array = np.arange(0, 21, 2)\n",
    "arange_array"
   ]
  },
  {
   "cell_type": "markdown",
   "id": "102fde7b",
   "metadata": {},
   "source": [
    "### Linspace"
   ]
  },
  {
   "cell_type": "code",
   "execution_count": 5,
   "id": "5bbf29f7",
   "metadata": {},
   "outputs": [
    {
     "data": {
      "text/plain": [
       "array([ 0.,  5., 10., 15., 20.])"
      ]
     },
     "execution_count": 5,
     "metadata": {},
     "output_type": "execute_result"
    }
   ],
   "source": [
    "linspace_array = np.linspace(0, 20, 5)\n",
    "linspace_array"
   ]
  },
  {
   "cell_type": "code",
   "execution_count": 8,
   "id": "14c0c15c",
   "metadata": {},
   "outputs": [
    {
     "data": {
      "text/plain": [
       "(array([ 0.,  5., 10., 15., 20.]), 5.0)"
      ]
     },
     "execution_count": 8,
     "metadata": {},
     "output_type": "execute_result"
    }
   ],
   "source": [
    "linspace_array2 = np.linspace(0, 20, 5,retstep=True)\n",
    "linspace_array2"
   ]
  },
  {
   "cell_type": "code",
   "execution_count": 9,
   "id": "05a011f6",
   "metadata": {},
   "outputs": [
    {
     "data": {
      "text/plain": [
       "(array([ 0.        ,  2.85714286,  5.71428571,  8.57142857, 11.42857143,\n",
       "        14.28571429, 17.14285714, 20.        ]),\n",
       " 2.857142857142857)"
      ]
     },
     "execution_count": 9,
     "metadata": {},
     "output_type": "execute_result"
    }
   ],
   "source": [
    "linspace_array3 = np.linspace(0, 20, 8, retstep=True)\n",
    "linspace_array3"
   ]
  },
  {
   "cell_type": "markdown",
   "id": "01e1a821",
   "metadata": {},
   "source": [
    "### Ones"
   ]
  },
  {
   "cell_type": "code",
   "execution_count": 11,
   "id": "e7e6c0be",
   "metadata": {},
   "outputs": [
    {
     "data": {
      "text/plain": [
       "array([[1., 1., 1., 1.],\n",
       "       [1., 1., 1., 1.],\n",
       "       [1., 1., 1., 1.]])"
      ]
     },
     "execution_count": 11,
     "metadata": {},
     "output_type": "execute_result"
    }
   ],
   "source": [
    "ones_array = np.ones((3,4))\n",
    "ones_array"
   ]
  },
  {
   "cell_type": "code",
   "execution_count": 12,
   "id": "d1b8c6dd",
   "metadata": {},
   "outputs": [
    {
     "data": {
      "text/plain": [
       "array([[[1, 1, 1, 1],\n",
       "        [1, 1, 1, 1],\n",
       "        [1, 1, 1, 1]],\n",
       "\n",
       "       [[1, 1, 1, 1],\n",
       "        [1, 1, 1, 1],\n",
       "        [1, 1, 1, 1]]])"
      ]
     },
     "execution_count": 12,
     "metadata": {},
     "output_type": "execute_result"
    }
   ],
   "source": [
    "ones_array2 = np.ones((2,3,4), dtype=int)\n",
    "ones_array2"
   ]
  },
  {
   "cell_type": "markdown",
   "id": "0c07c871",
   "metadata": {},
   "source": [
    "### Zeros"
   ]
  },
  {
   "cell_type": "code",
   "execution_count": 13,
   "id": "73323104",
   "metadata": {},
   "outputs": [
    {
     "data": {
      "text/plain": [
       "array([[0., 0., 0., 0.],\n",
       "       [0., 0., 0., 0.],\n",
       "       [0., 0., 0., 0.]])"
      ]
     },
     "execution_count": 13,
     "metadata": {},
     "output_type": "execute_result"
    }
   ],
   "source": [
    "zero_array = np.zeros((3,4))\n",
    "zero_array"
   ]
  },
  {
   "cell_type": "markdown",
   "id": "cfcb9c9a",
   "metadata": {},
   "source": [
    "### Random"
   ]
  },
  {
   "cell_type": "code",
   "execution_count": 14,
   "id": "6af63f29",
   "metadata": {},
   "outputs": [
    {
     "data": {
      "text/plain": [
       "array([[0.96234101, 0.36930471, 0.58616163, 0.80885879],\n",
       "       [0.19166519, 0.68288441, 0.16148466, 0.95260143],\n",
       "       [0.39919586, 0.84518753, 0.98063847, 0.16984164]])"
      ]
     },
     "execution_count": 14,
     "metadata": {},
     "output_type": "execute_result"
    }
   ],
   "source": [
    "random_array = np.random.random(size=(3,4))\n",
    "random_array"
   ]
  },
  {
   "cell_type": "code",
   "execution_count": 16,
   "id": "11d4da52",
   "metadata": {},
   "outputs": [
    {
     "data": {
      "text/plain": [
       "array([[ 5,  8,  4],\n",
       "       [10,  9, 10],\n",
       "       [ 3,  5,  8],\n",
       "       [ 9, 10,  7]])"
      ]
     },
     "execution_count": 16,
     "metadata": {},
     "output_type": "execute_result"
    }
   ],
   "source": [
    "random_array2 = np.random.randint(1, 11, (4,3), dtype=int)\n",
    "random_array2"
   ]
  },
  {
   "cell_type": "markdown",
   "id": "cd56fcbf",
   "metadata": {},
   "source": [
    "### Seed\n",
    "save firs time random genarete"
   ]
  },
  {
   "cell_type": "code",
   "execution_count": 18,
   "id": "5cef35f9",
   "metadata": {},
   "outputs": [
    {
     "data": {
      "text/plain": [
       "array([[6, 4, 5],\n",
       "       [1, 8, 2],\n",
       "       [4, 6, 8],\n",
       "       [1, 1, 2]])"
      ]
     },
     "execution_count": 18,
     "metadata": {},
     "output_type": "execute_result"
    }
   ],
   "source": [
    "np.random.seed(1)\n",
    "seed_array = np.random.randint(1,9,(4,3))\n",
    "seed_array"
   ]
  },
  {
   "cell_type": "markdown",
   "id": "adfef2a4",
   "metadata": {},
   "source": [
    "# Index And Slicing"
   ]
  },
  {
   "cell_type": "code",
   "execution_count": 19,
   "id": "e97a973d",
   "metadata": {},
   "outputs": [
    {
     "data": {
      "text/plain": [
       "array([ 1,  2,  3,  4,  5,  6,  7,  8,  9, 10, 11, 12, 13, 14, 15])"
      ]
     },
     "execution_count": 19,
     "metadata": {},
     "output_type": "execute_result"
    }
   ],
   "source": [
    "ar = np.arange(1,16)\n",
    "ar"
   ]
  },
  {
   "cell_type": "code",
   "execution_count": 20,
   "id": "9a1757a3",
   "metadata": {},
   "outputs": [
    {
     "data": {
      "text/plain": [
       "1"
      ]
     },
     "execution_count": 20,
     "metadata": {},
     "output_type": "execute_result"
    }
   ],
   "source": [
    "ar[0]"
   ]
  },
  {
   "cell_type": "code",
   "execution_count": 21,
   "id": "4f2c2217",
   "metadata": {},
   "outputs": [
    {
     "data": {
      "text/plain": [
       "11"
      ]
     },
     "execution_count": 21,
     "metadata": {},
     "output_type": "execute_result"
    }
   ],
   "source": [
    "ar[-5]"
   ]
  },
  {
   "cell_type": "code",
   "execution_count": 22,
   "id": "42f1c1c6",
   "metadata": {},
   "outputs": [
    {
     "data": {
      "text/plain": [
       "array([  1,   2, 150,   4,   5,   6,   7,   8,   9,  10,  11,  12,  13,\n",
       "        14,  15])"
      ]
     },
     "execution_count": 22,
     "metadata": {},
     "output_type": "execute_result"
    }
   ],
   "source": [
    "ar[2] = 150\n",
    "ar"
   ]
  },
  {
   "cell_type": "code",
   "execution_count": 23,
   "id": "b50ebc2e",
   "metadata": {},
   "outputs": [
    {
     "data": {
      "text/plain": [
       "array([ 1,  2,  3,  4,  5,  6,  7,  8,  9, 10, 11, 12, 13, 14, 15, 16, 17,\n",
       "       18, 19, 20])"
      ]
     },
     "execution_count": 23,
     "metadata": {},
     "output_type": "execute_result"
    }
   ],
   "source": [
    "ar2 = np.arange(1,21)\n",
    "ar2"
   ]
  },
  {
   "cell_type": "code",
   "execution_count": 25,
   "id": "a8ab7d6b",
   "metadata": {},
   "outputs": [
    {
     "data": {
      "text/plain": [
       "array([[ 1,  2,  3,  4,  5],\n",
       "       [ 6,  7,  8,  9, 10],\n",
       "       [11, 12, 13, 14, 15],\n",
       "       [16, 17, 18, 19, 20]])"
      ]
     },
     "execution_count": 25,
     "metadata": {},
     "output_type": "execute_result"
    }
   ],
   "source": [
    "ar2.shape = (4, 5)\n",
    "ar2"
   ]
  },
  {
   "cell_type": "code",
   "execution_count": 26,
   "id": "c61c9f54",
   "metadata": {},
   "outputs": [
    {
     "data": {
      "text/plain": [
       "array([ 6,  7,  8,  9, 10])"
      ]
     },
     "execution_count": 26,
     "metadata": {},
     "output_type": "execute_result"
    }
   ],
   "source": [
    "ar2[1]"
   ]
  },
  {
   "cell_type": "code",
   "execution_count": 27,
   "id": "d5311682",
   "metadata": {},
   "outputs": [
    {
     "data": {
      "text/plain": [
       "8"
      ]
     },
     "execution_count": 27,
     "metadata": {},
     "output_type": "execute_result"
    }
   ],
   "source": [
    "ar2[1][2]"
   ]
  },
  {
   "cell_type": "code",
   "execution_count": 28,
   "id": "0366b912",
   "metadata": {},
   "outputs": [
    {
     "data": {
      "text/plain": [
       "8"
      ]
     },
     "execution_count": 28,
     "metadata": {},
     "output_type": "execute_result"
    }
   ],
   "source": [
    "ar2[1,2]"
   ]
  },
  {
   "cell_type": "code",
   "execution_count": 29,
   "id": "aa338fc9",
   "metadata": {},
   "outputs": [
    {
     "data": {
      "text/plain": [
       "array([[ 1,  2],\n",
       "       [ 6,  7],\n",
       "       [11, 12],\n",
       "       [16, 17]])"
      ]
     },
     "execution_count": 29,
     "metadata": {},
     "output_type": "execute_result"
    }
   ],
   "source": [
    "ar2[:, :2]"
   ]
  },
  {
   "cell_type": "code",
   "execution_count": 30,
   "id": "816d70d7",
   "metadata": {},
   "outputs": [
    {
     "data": {
      "text/plain": [
       "array([[[5, 8, 6, 5],\n",
       "        [7, 2, 3, 5],\n",
       "        [7, 6, 3, 5]],\n",
       "\n",
       "       [[4, 5, 3, 5],\n",
       "        [6, 7, 3, 5],\n",
       "        [8, 8, 2, 2]]])"
      ]
     },
     "execution_count": 30,
     "metadata": {},
     "output_type": "execute_result"
    }
   ],
   "source": [
    "ar3 = np.random.randint(1, 9, size=(2, 3, 4))\n",
    "ar3"
   ]
  },
  {
   "cell_type": "code",
   "execution_count": 31,
   "id": "8288fc11",
   "metadata": {},
   "outputs": [
    {
     "data": {
      "text/plain": [
       "array([[5, 8, 6, 5],\n",
       "       [7, 2, 3, 5],\n",
       "       [7, 6, 3, 5]])"
      ]
     },
     "execution_count": 31,
     "metadata": {},
     "output_type": "execute_result"
    }
   ],
   "source": [
    "ar3[0]"
   ]
  },
  {
   "cell_type": "code",
   "execution_count": 32,
   "id": "39c9bacc",
   "metadata": {},
   "outputs": [
    {
     "data": {
      "text/plain": [
       "array([7, 2, 3, 5])"
      ]
     },
     "execution_count": 32,
     "metadata": {},
     "output_type": "execute_result"
    }
   ],
   "source": [
    "ar3[0][1]"
   ]
  },
  {
   "cell_type": "code",
   "execution_count": 33,
   "id": "a81cfa3a",
   "metadata": {},
   "outputs": [
    {
     "data": {
      "text/plain": [
       "5"
      ]
     },
     "execution_count": 33,
     "metadata": {},
     "output_type": "execute_result"
    }
   ],
   "source": [
    "ar3[0][1][-1]"
   ]
  },
  {
   "cell_type": "code",
   "execution_count": 35,
   "id": "2270ad8c",
   "metadata": {},
   "outputs": [
    {
     "data": {
      "text/plain": [
       "3"
      ]
     },
     "execution_count": 35,
     "metadata": {},
     "output_type": "execute_result"
    }
   ],
   "source": [
    "ar3[1, 1, 2]"
   ]
  },
  {
   "cell_type": "code",
   "execution_count": 36,
   "id": "640de033",
   "metadata": {},
   "outputs": [
    {
     "data": {
      "text/plain": [
       "array([[[6, 5],\n",
       "        [3, 5],\n",
       "        [3, 5]],\n",
       "\n",
       "       [[3, 5],\n",
       "        [3, 5],\n",
       "        [2, 2]]])"
      ]
     },
     "execution_count": 36,
     "metadata": {},
     "output_type": "execute_result"
    }
   ],
   "source": [
    "ar3[:, :, -2:]"
   ]
  },
  {
   "cell_type": "markdown",
   "id": "1689b5a7",
   "metadata": {},
   "source": [
    "# Masked Array"
   ]
  },
  {
   "cell_type": "code",
   "execution_count": 37,
   "id": "5964e07d",
   "metadata": {},
   "outputs": [
    {
     "data": {
      "text/plain": [
       "array([95, 97, 87, 14, 10,  8, 64, 62, 23, 58,  2,  1, 61, 82,  9, 89, 14,\n",
       "       48, 73, 31, 72,  4, 71, 22, 50, 58,  4, 69, 25, 44, 77, 27, 53, 81,\n",
       "       42, 83, 16, 65, 69, 26, 99, 88,  8, 27, 26, 23, 10, 68, 24, 28, 38,\n",
       "       58, 84, 39,  9, 33, 35, 11, 24, 16])"
      ]
     },
     "execution_count": 37,
     "metadata": {},
     "output_type": "execute_result"
    }
   ],
   "source": [
    "ary = np.random.randint(1,100,60)\n",
    "ary"
   ]
  },
  {
   "cell_type": "code",
   "execution_count": 39,
   "id": "d67d90f2",
   "metadata": {},
   "outputs": [
    {
     "data": {
      "text/plain": [
       "(60,)"
      ]
     },
     "execution_count": 39,
     "metadata": {},
     "output_type": "execute_result"
    }
   ],
   "source": [
    "ary.shape"
   ]
  },
  {
   "cell_type": "code",
   "execution_count": 41,
   "id": "d91e0183",
   "metadata": {},
   "outputs": [
    {
     "data": {
      "text/plain": [
       "array([[[95, 97, 87, 14, 10,  8],\n",
       "        [64, 62, 23, 58,  2,  1],\n",
       "        [61, 82,  9, 89, 14, 48],\n",
       "        [73, 31, 72,  4, 71, 22],\n",
       "        [50, 58,  4, 69, 25, 44]],\n",
       "\n",
       "       [[77, 27, 53, 81, 42, 83],\n",
       "        [16, 65, 69, 26, 99, 88],\n",
       "        [ 8, 27, 26, 23, 10, 68],\n",
       "        [24, 28, 38, 58, 84, 39],\n",
       "        [ 9, 33, 35, 11, 24, 16]]])"
      ]
     },
     "execution_count": 41,
     "metadata": {},
     "output_type": "execute_result"
    }
   ],
   "source": [
    "ary = ary.reshape((2,5,6))\n",
    "ary"
   ]
  },
  {
   "cell_type": "code",
   "execution_count": 43,
   "id": "665f01d8",
   "metadata": {},
   "outputs": [
    {
     "data": {
      "text/plain": [
       "array([ 1,  2,  4,  8,  9, 10, 11, 14, 16, 22, 23, 24, 25, 26, 27, 28, 31,\n",
       "       33, 35, 38, 39, 42, 44, 48, 50, 53, 58, 61, 62, 64, 65, 68, 69, 71,\n",
       "       72, 73, 77, 81, 82, 83, 84, 87, 88, 89, 95, 97, 99])"
      ]
     },
     "execution_count": 43,
     "metadata": {},
     "output_type": "execute_result"
    }
   ],
   "source": [
    "unique_array = np.unique(ary)\n",
    "unique_array"
   ]
  },
  {
   "cell_type": "code",
   "execution_count": 44,
   "id": "e4eb438c",
   "metadata": {},
   "outputs": [
    {
     "data": {
      "text/plain": [
       "array([95, 97, 87, 64, 62, 58, 61, 82, 89, 48, 73, 31, 72, 71, 50, 58, 69,\n",
       "       44, 77, 53, 81, 42, 83, 65, 69, 99, 88, 68, 38, 58, 84, 39, 33, 35])"
      ]
     },
     "execution_count": 44,
     "metadata": {},
     "output_type": "execute_result"
    }
   ],
   "source": [
    "ary[ary > 30]"
   ]
  },
  {
   "cell_type": "code",
   "execution_count": 47,
   "id": "7ed32068",
   "metadata": {},
   "outputs": [
    {
     "data": {
      "text/plain": [
       "array([[[ True,  True,  True, False, False, False],\n",
       "        [ True,  True, False,  True, False, False],\n",
       "        [ True,  True, False,  True, False,  True],\n",
       "        [ True,  True,  True, False,  True, False],\n",
       "        [ True,  True, False,  True, False,  True]],\n",
       "\n",
       "       [[ True, False,  True,  True,  True,  True],\n",
       "        [False,  True,  True, False,  True,  True],\n",
       "        [False, False, False, False, False,  True],\n",
       "        [False, False,  True,  True,  True,  True],\n",
       "        [False,  True,  True, False, False, False]]])"
      ]
     },
     "execution_count": 47,
     "metadata": {},
     "output_type": "execute_result"
    }
   ],
   "source": [
    "greater_than_30 = ary > 30\n",
    "greater_than_30"
   ]
  },
  {
   "cell_type": "code",
   "execution_count": 48,
   "id": "46c5aa75",
   "metadata": {},
   "outputs": [
    {
     "data": {
      "text/plain": [
       "array([95, 97, 87, 64, 62, 58, 61, 82, 89, 48, 73, 31, 72, 71, 50, 58, 69,\n",
       "       44, 77, 53, 81, 42, 83, 65, 69, 99, 88, 68, 38, 58, 84, 39, 33, 35])"
      ]
     },
     "execution_count": 48,
     "metadata": {},
     "output_type": "execute_result"
    }
   ],
   "source": [
    "ary[greater_than_30]"
   ]
  },
  {
   "cell_type": "code",
   "execution_count": 51,
   "id": "44ba9578",
   "metadata": {},
   "outputs": [
    {
     "data": {
      "text/plain": [
       "array([[[False, False, False,  True,  True,  True],\n",
       "        [ True,  True, False,  True,  True, False],\n",
       "        [False,  True, False, False,  True,  True],\n",
       "        [False, False,  True,  True, False,  True],\n",
       "        [ True,  True,  True, False, False,  True]],\n",
       "\n",
       "       [[False, False, False, False,  True, False],\n",
       "        [ True, False, False,  True, False,  True],\n",
       "        [ True, False,  True, False,  True,  True],\n",
       "        [ True,  True,  True,  True,  True, False],\n",
       "        [False, False, False, False,  True,  True]]])"
      ]
     },
     "execution_count": 51,
     "metadata": {},
     "output_type": "execute_result"
    }
   ],
   "source": [
    "even_elements = ary % 2 ==0\n",
    "even_elements"
   ]
  },
  {
   "cell_type": "code",
   "execution_count": 52,
   "id": "9195488c",
   "metadata": {},
   "outputs": [
    {
     "data": {
      "text/plain": [
       "array([64, 62, 58, 82, 48, 72, 50, 58, 44, 42, 88, 68, 38, 58, 84])"
      ]
     },
     "execution_count": 52,
     "metadata": {},
     "output_type": "execute_result"
    }
   ],
   "source": [
    "final_mask = np.logical_and(greater_than_30,even_elements)\n",
    "ary[final_mask]"
   ]
  },
  {
   "cell_type": "code",
   "execution_count": 55,
   "id": "fd3705e4",
   "metadata": {},
   "outputs": [
    {
     "data": {
      "text/plain": [
       "array([95, 97, 87, 14, 10,  8, 64, 62, 58,  2,  1, 61, 82,  9, 89, 14, 48,\n",
       "       73, 31, 72,  4, 71, 50, 58,  4, 69, 44, 77, 53, 81, 42, 83, 16, 65,\n",
       "       69, 99, 88,  8, 10, 68, 38, 58, 84, 39,  9, 33, 35, 11, 16])"
      ]
     },
     "execution_count": 55,
     "metadata": {},
     "output_type": "execute_result"
    }
   ],
   "source": [
    "less_than_20 = ary < 20\n",
    "result = np.logical_or(greater_than_30,less_than_20)\n",
    "ary[result]"
   ]
  },
  {
   "cell_type": "markdown",
   "id": "2cf51a79",
   "metadata": {},
   "source": [
    "# Numpy Broadcasting"
   ]
  },
  {
   "cell_type": "code",
   "execution_count": 2,
   "id": "0830d305",
   "metadata": {},
   "outputs": [
    {
     "data": {
      "text/plain": [
       "array([0, 1, 2, 3, 4])"
      ]
     },
     "execution_count": 2,
     "metadata": {},
     "output_type": "execute_result"
    }
   ],
   "source": [
    "arry = np.arange(5)\n",
    "arry"
   ]
  },
  {
   "cell_type": "code",
   "execution_count": 3,
   "id": "4cde2a07",
   "metadata": {},
   "outputs": [
    {
     "data": {
      "text/plain": [
       "array([4, 5, 6, 7, 8])"
      ]
     },
     "execution_count": 3,
     "metadata": {},
     "output_type": "execute_result"
    }
   ],
   "source": [
    "arry + 4"
   ]
  },
  {
   "cell_type": "code",
   "execution_count": 4,
   "id": "eb68372c",
   "metadata": {},
   "outputs": [
    {
     "data": {
      "text/plain": [
       "array([[2, 7, 3, 2, 4]])"
      ]
     },
     "execution_count": 4,
     "metadata": {},
     "output_type": "execute_result"
    }
   ],
   "source": [
    "arry2 = np.random.randint(1, 9, size = 5).reshape((1,5))\n",
    "arry2"
   ]
  },
  {
   "cell_type": "code",
   "execution_count": 5,
   "id": "261bc3ac",
   "metadata": {},
   "outputs": [
    {
     "data": {
      "text/plain": [
       "array([[2, 8, 5, 5, 8]])"
      ]
     },
     "execution_count": 5,
     "metadata": {},
     "output_type": "execute_result"
    }
   ],
   "source": [
    "arry + arry2"
   ]
  },
  {
   "cell_type": "code",
   "execution_count": 7,
   "id": "d64391c7",
   "metadata": {},
   "outputs": [
    {
     "data": {
      "text/plain": [
       "array([[-2, -6, -1,  1,  0]])"
      ]
     },
     "execution_count": 7,
     "metadata": {},
     "output_type": "execute_result"
    }
   ],
   "source": [
    "arry - arry2"
   ]
  },
  {
   "cell_type": "code",
   "execution_count": 8,
   "id": "832a48b3",
   "metadata": {},
   "outputs": [
    {
     "data": {
      "text/plain": [
       "array([[ 0,  7,  6,  6, 16]])"
      ]
     },
     "execution_count": 8,
     "metadata": {},
     "output_type": "execute_result"
    }
   ],
   "source": [
    "arry * arry2"
   ]
  },
  {
   "cell_type": "code",
   "execution_count": 9,
   "id": "668296ee",
   "metadata": {},
   "outputs": [
    {
     "data": {
      "text/plain": [
       "array([[0.        , 0.14285714, 0.66666667, 1.5       , 1.        ]])"
      ]
     },
     "execution_count": 9,
     "metadata": {},
     "output_type": "execute_result"
    }
   ],
   "source": [
    "arry / arry2"
   ]
  },
  {
   "cell_type": "code",
   "execution_count": 10,
   "id": "a2597644",
   "metadata": {},
   "outputs": [
    {
     "data": {
      "text/plain": [
       "array([[0, 1, 2, 1, 0]], dtype=int32)"
      ]
     },
     "execution_count": 10,
     "metadata": {},
     "output_type": "execute_result"
    }
   ],
   "source": [
    "arry % arry2"
   ]
  },
  {
   "cell_type": "code",
   "execution_count": 11,
   "id": "33655965",
   "metadata": {},
   "outputs": [
    {
     "data": {
      "text/plain": [
       "array([[0, 0, 0, 1, 1]], dtype=int32)"
      ]
     },
     "execution_count": 11,
     "metadata": {},
     "output_type": "execute_result"
    }
   ],
   "source": [
    "arry // arry2"
   ]
  },
  {
   "cell_type": "code",
   "execution_count": 12,
   "id": "cc5cf4a3",
   "metadata": {},
   "outputs": [
    {
     "data": {
      "text/plain": [
       "array([[23, 87, 97, 81, 64, 50, 64, 92, 67, 89],\n",
       "       [55, 65, 24, 60, 55, 53, 16, 73,  1, 29],\n",
       "       [65, 94, 87, 21, 23, 59, 81, 15, 96, 32],\n",
       "       [98, 83, 61, 80, 74, 31,  2,  8, 21, 66],\n",
       "       [60, 19, 52, 97, 16, 31, 47, 16, 35, 52]])"
      ]
     },
     "execution_count": 12,
     "metadata": {},
     "output_type": "execute_result"
    }
   ],
   "source": [
    "arry3 = np.random.randint(1, 99, size=50).reshape((5,10))\n",
    "arry3"
   ]
  },
  {
   "cell_type": "code",
   "execution_count": 13,
   "id": "a5b6cbbc",
   "metadata": {},
   "outputs": [
    {
     "data": {
      "text/plain": [
       "array([[2, 7, 3, 2, 4]])"
      ]
     },
     "execution_count": 13,
     "metadata": {},
     "output_type": "execute_result"
    }
   ],
   "source": [
    "arry2"
   ]
  },
  {
   "cell_type": "code",
   "execution_count": 14,
   "id": "7d329ebe",
   "metadata": {},
   "outputs": [
    {
     "ename": "ValueError",
     "evalue": "operands could not be broadcast together with shapes (1,5) (5,10) ",
     "output_type": "error",
     "traceback": [
      "\u001b[1;31m---------------------------------------------------------------------------\u001b[0m",
      "\u001b[1;31mValueError\u001b[0m                                Traceback (most recent call last)",
      "\u001b[1;32m~\\AppData\\Local\\Temp/ipykernel_21044/3771053434.py\u001b[0m in \u001b[0;36m<module>\u001b[1;34m\u001b[0m\n\u001b[1;32m----> 1\u001b[1;33m \u001b[0marry2\u001b[0m \u001b[1;33m+\u001b[0m \u001b[0marry3\u001b[0m\u001b[1;33m\u001b[0m\u001b[1;33m\u001b[0m\u001b[0m\n\u001b[0m",
      "\u001b[1;31mValueError\u001b[0m: operands could not be broadcast together with shapes (1,5) (5,10) "
     ]
    }
   ],
   "source": [
    "arry2 + arry3"
   ]
  },
  {
   "cell_type": "code",
   "execution_count": 15,
   "id": "5765d1b2",
   "metadata": {},
   "outputs": [
    {
     "data": {
      "text/plain": [
       "array([[78, 20, 92, 50, 53],\n",
       "       [50, 23, 37, 97,  4],\n",
       "       [58, 59,  9, 53, 97],\n",
       "       [89, 51, 79, 33, 51],\n",
       "       [72, 72, 27, 75, 53],\n",
       "       [25,  6, 59, 39, 84],\n",
       "       [92, 39, 45, 84, 16],\n",
       "       [36, 14, 92, 76, 86],\n",
       "       [83, 74, 92, 26,  3],\n",
       "       [92, 23, 51, 89, 69]])"
      ]
     },
     "execution_count": 15,
     "metadata": {},
     "output_type": "execute_result"
    }
   ],
   "source": [
    "arry3 = np.random.randint(1, 99, size=50).reshape((10,5))\n",
    "arry3"
   ]
  },
  {
   "cell_type": "markdown",
   "id": "7875ba91",
   "metadata": {},
   "source": [
    "###### arry2 = (1,5) => (10,5)"
   ]
  },
  {
   "cell_type": "code",
   "execution_count": 16,
   "id": "d2fe5c0e",
   "metadata": {},
   "outputs": [
    {
     "data": {
      "text/plain": [
       "array([[ 80,  27,  95,  52,  57],\n",
       "       [ 52,  30,  40,  99,   8],\n",
       "       [ 60,  66,  12,  55, 101],\n",
       "       [ 91,  58,  82,  35,  55],\n",
       "       [ 74,  79,  30,  77,  57],\n",
       "       [ 27,  13,  62,  41,  88],\n",
       "       [ 94,  46,  48,  86,  20],\n",
       "       [ 38,  21,  95,  78,  90],\n",
       "       [ 85,  81,  95,  28,   7],\n",
       "       [ 94,  30,  54,  91,  73]])"
      ]
     },
     "execution_count": 16,
     "metadata": {},
     "output_type": "execute_result"
    }
   ],
   "source": [
    "arry2 + arry3"
   ]
  },
  {
   "cell_type": "code",
   "execution_count": 17,
   "id": "304c9f92",
   "metadata": {},
   "outputs": [
    {
     "data": {
      "text/plain": [
       "array([[2, 7, 3, 2, 4]])"
      ]
     },
     "execution_count": 17,
     "metadata": {},
     "output_type": "execute_result"
    }
   ],
   "source": [
    "arry2"
   ]
  },
  {
   "cell_type": "code",
   "execution_count": 18,
   "id": "430b1cd3",
   "metadata": {},
   "outputs": [
    {
     "data": {
      "text/plain": [
       "array([[0],\n",
       "       [1],\n",
       "       [2],\n",
       "       [3],\n",
       "       [4]])"
      ]
     },
     "execution_count": 18,
     "metadata": {},
     "output_type": "execute_result"
    }
   ],
   "source": [
    "q = np.arange(5).reshape(5,1)\n",
    "q"
   ]
  },
  {
   "cell_type": "code",
   "execution_count": 19,
   "id": "a51ee917",
   "metadata": {},
   "outputs": [
    {
     "data": {
      "text/plain": [
       "array([[ 2,  7,  3,  2,  4],\n",
       "       [ 3,  8,  4,  3,  5],\n",
       "       [ 4,  9,  5,  4,  6],\n",
       "       [ 5, 10,  6,  5,  7],\n",
       "       [ 6, 11,  7,  6,  8]])"
      ]
     },
     "execution_count": 19,
     "metadata": {},
     "output_type": "execute_result"
    }
   ],
   "source": [
    "arry2 + q"
   ]
  },
  {
   "cell_type": "code",
   "execution_count": 2,
   "id": "71da229c",
   "metadata": {},
   "outputs": [
    {
     "data": {
      "text/plain": [
       "array([[[30, 69, 35, 10],\n",
       "        [39, 21,  6,  7],\n",
       "        [20, 13, 85, 94],\n",
       "        [96, 12, 10, 62],\n",
       "        [73, 35, 95,  8]],\n",
       "\n",
       "       [[87, 39, 90, 15],\n",
       "        [37, 71, 40,  7],\n",
       "        [91, 15, 50, 39],\n",
       "        [39, 86, 32, 73],\n",
       "        [ 4, 22, 72, 73]]])"
      ]
     },
     "execution_count": 2,
     "metadata": {},
     "output_type": "execute_result"
    }
   ],
   "source": [
    "e = np.random.randint(1, 99, size=40).reshape((2, 5, 4))\n",
    "e"
   ]
  },
  {
   "cell_type": "code",
   "execution_count": 3,
   "id": "893a5743",
   "metadata": {},
   "outputs": [
    {
     "data": {
      "text/plain": [
       "array([[ 0,  1,  2,  3],\n",
       "       [ 4,  5,  6,  7],\n",
       "       [ 8,  9, 10, 11],\n",
       "       [12, 13, 14, 15],\n",
       "       [16, 17, 18, 19]])"
      ]
     },
     "execution_count": 3,
     "metadata": {},
     "output_type": "execute_result"
    }
   ],
   "source": [
    "o = np.arange(20).reshape((5, 4))\n",
    "o"
   ]
  },
  {
   "cell_type": "code",
   "execution_count": 4,
   "id": "96cd1593",
   "metadata": {},
   "outputs": [
    {
     "data": {
      "text/plain": [
       "array([[[ 30,  70,  37,  13],\n",
       "        [ 43,  26,  12,  14],\n",
       "        [ 28,  22,  95, 105],\n",
       "        [108,  25,  24,  77],\n",
       "        [ 89,  52, 113,  27]],\n",
       "\n",
       "       [[ 87,  40,  92,  18],\n",
       "        [ 41,  76,  46,  14],\n",
       "        [ 99,  24,  60,  50],\n",
       "        [ 51,  99,  46,  88],\n",
       "        [ 20,  39,  90,  92]]])"
      ]
     },
     "execution_count": 4,
     "metadata": {},
     "output_type": "execute_result"
    }
   ],
   "source": [
    "e + o"
   ]
  },
  {
   "cell_type": "markdown",
   "id": "86d13d4e",
   "metadata": {},
   "source": [
    "###### mean => average number"
   ]
  },
  {
   "cell_type": "code",
   "execution_count": 5,
   "id": "5817f10a",
   "metadata": {},
   "outputs": [
    {
     "data": {
      "text/plain": [
       "45.05"
      ]
     },
     "execution_count": 5,
     "metadata": {},
     "output_type": "execute_result"
    }
   ],
   "source": [
    "np.mean(e)"
   ]
  },
  {
   "cell_type": "markdown",
   "id": "5ed1b928",
   "metadata": {},
   "source": [
    "###### median => middle number"
   ]
  },
  {
   "cell_type": "code",
   "execution_count": 6,
   "id": "9def358e",
   "metadata": {},
   "outputs": [
    {
     "data": {
      "text/plain": [
       "39.0"
      ]
     },
     "execution_count": 6,
     "metadata": {},
     "output_type": "execute_result"
    }
   ],
   "source": [
    "np.median(e)"
   ]
  },
  {
   "cell_type": "code",
   "execution_count": 7,
   "id": "69a64ab0",
   "metadata": {},
   "outputs": [
    {
     "data": {
      "text/plain": [
       "96"
      ]
     },
     "execution_count": 7,
     "metadata": {},
     "output_type": "execute_result"
    }
   ],
   "source": [
    "np.max(e)"
   ]
  },
  {
   "cell_type": "code",
   "execution_count": 8,
   "id": "6d51e627",
   "metadata": {},
   "outputs": [
    {
     "data": {
      "text/plain": [
       "4"
      ]
     },
     "execution_count": 8,
     "metadata": {},
     "output_type": "execute_result"
    }
   ],
   "source": [
    "np.min(e)"
   ]
  },
  {
   "cell_type": "markdown",
   "id": "eb0c9082",
   "metadata": {},
   "source": [
    "###### var => variance"
   ]
  },
  {
   "cell_type": "code",
   "execution_count": 9,
   "id": "ba36e591",
   "metadata": {},
   "outputs": [
    {
     "data": {
      "text/plain": [
       "942.8474999999999"
      ]
     },
     "execution_count": 9,
     "metadata": {},
     "output_type": "execute_result"
    }
   ],
   "source": [
    "np.var(e)"
   ]
  },
  {
   "cell_type": "markdown",
   "id": "fffb6b78",
   "metadata": {},
   "source": [
    "###### std => standard deviation"
   ]
  },
  {
   "cell_type": "code",
   "execution_count": 10,
   "id": "e57f22b2",
   "metadata": {},
   "outputs": [
    {
     "data": {
      "text/plain": [
       "30.70582192353756"
      ]
     },
     "execution_count": 10,
     "metadata": {},
     "output_type": "execute_result"
    }
   ],
   "source": [
    "np.std(e)"
   ]
  },
  {
   "cell_type": "code",
   "execution_count": 11,
   "id": "d87cd057",
   "metadata": {},
   "outputs": [
    {
     "data": {
      "text/plain": [
       "30.70582192353756"
      ]
     },
     "execution_count": 11,
     "metadata": {},
     "output_type": "execute_result"
    }
   ],
   "source": [
    "np.sqrt(np.var(e))"
   ]
  },
  {
   "cell_type": "code",
   "execution_count": 12,
   "id": "dd6cbab7",
   "metadata": {},
   "outputs": [
    {
     "data": {
      "text/plain": [
       "1802"
      ]
     },
     "execution_count": 12,
     "metadata": {},
     "output_type": "execute_result"
    }
   ],
   "source": [
    "np.sum(e)"
   ]
  },
  {
   "cell_type": "code",
   "execution_count": 13,
   "id": "2b2dc6f0",
   "metadata": {},
   "outputs": [
    {
     "data": {
      "text/plain": [
       "45.05"
      ]
     },
     "execution_count": 13,
     "metadata": {},
     "output_type": "execute_result"
    }
   ],
   "source": [
    "np.sum(e)/e.size"
   ]
  },
  {
   "cell_type": "code",
   "execution_count": 15,
   "id": "7028b83b",
   "metadata": {},
   "outputs": [
    {
     "data": {
      "text/plain": [
       "array([ 0,  1,  2,  3,  4,  5,  6,  7,  8,  9, 10, 11, 12, 13, 14, 15, 16,\n",
       "       17, 18, 19, 20, 21, 22, 23, 24, 25, 26, 27, 28, 29, 30, 31, 32, 33,\n",
       "       34, 35, 36, 37, 38, 39, 40, 41, 42, 43, 44, 45, 46, 47, 48, 49, 50,\n",
       "       51, 52, 53, 54, 55, 56, 57, 58, 59, 60, 61, 62, 63, 64, 65, 66, 67,\n",
       "       68, 69, 70, 71, 72, 73, 74, 75, 76, 77, 78, 79, 80, 81, 82, 83, 84,\n",
       "       85, 86, 87, 88, 89, 90, 91, 92, 93, 94, 95, 96, 97, 98, 99])"
      ]
     },
     "execution_count": 15,
     "metadata": {},
     "output_type": "execute_result"
    }
   ],
   "source": [
    "f = np.arange(100)\n",
    "f"
   ]
  },
  {
   "cell_type": "code",
   "execution_count": 16,
   "id": "bdc0c39e",
   "metadata": {},
   "outputs": [
    {
     "data": {
      "text/plain": [
       "4950"
      ]
     },
     "execution_count": 16,
     "metadata": {},
     "output_type": "execute_result"
    }
   ],
   "source": [
    "sum(f)"
   ]
  },
  {
   "cell_type": "markdown",
   "id": "c6106a72",
   "metadata": {},
   "source": [
    "### comparison sum in numpy and sum in python"
   ]
  },
  {
   "cell_type": "code",
   "execution_count": 17,
   "id": "259a7595",
   "metadata": {},
   "outputs": [
    {
     "data": {
      "text/plain": [
       "array([34, 17, 28, 54, 24, 57, 84, 74, 51, 90, 51, 36,  8, 61, 18, 17,  3,\n",
       "       80, 61, 32, 44, 46, 13, 96, 69, 38, 72, 90, 39, 88, 95, 20, 78, 64,\n",
       "       38,  8, 80, 26, 83, 56, 43, 43, 95, 13, 40, 95, 12, 84, 56, 69, 69,\n",
       "       28, 64, 39, 54, 31, 97, 50, 86, 45, 49, 29,  7, 21, 18, 82, 88, 94,\n",
       "       60, 40, 43, 67, 80, 70, 71, 87,  4, 29, 87, 77, 51, 32, 38,  9, 56,\n",
       "       59, 10, 17,  8, 72, 18, 31, 72, 28, 24, 40, 96, 16, 51, 49])"
      ]
     },
     "execution_count": 17,
     "metadata": {},
     "output_type": "execute_result"
    }
   ],
   "source": [
    "my_array = np.random.randint(1,99,size=1000000)\n",
    "my_array[:100]"
   ]
  },
  {
   "cell_type": "code",
   "execution_count": 19,
   "id": "6dd1d935",
   "metadata": {},
   "outputs": [
    {
     "data": {
      "text/plain": [
       "datetime.timedelta(microseconds=59003)"
      ]
     },
     "execution_count": 19,
     "metadata": {},
     "output_type": "execute_result"
    }
   ],
   "source": [
    "import datetime\n",
    "python_start = datetime.datetime.now()\n",
    "result_python = sum(my_array)\n",
    "python_end = datetime.datetime.now()\n",
    "time_python = python_end - python_start \n",
    "time_python"
   ]
  },
  {
   "cell_type": "code",
   "execution_count": 20,
   "id": "78f1ffe2",
   "metadata": {},
   "outputs": [
    {
     "data": {
      "text/plain": [
       "datetime.timedelta(microseconds=999)"
      ]
     },
     "execution_count": 20,
     "metadata": {},
     "output_type": "execute_result"
    }
   ],
   "source": [
    "np_start = datetime.datetime.now()\n",
    "result_np = np.sum(my_array)\n",
    "np_end = datetime.datetime.now()\n",
    "time_np = np_end - np_start\n",
    "time_np"
   ]
  }
 ],
 "metadata": {
  "kernelspec": {
   "display_name": "Python 3 (ipykernel)",
   "language": "python",
   "name": "python3"
  },
  "language_info": {
   "codemirror_mode": {
    "name": "ipython",
    "version": 3
   },
   "file_extension": ".py",
   "mimetype": "text/x-python",
   "name": "python",
   "nbconvert_exporter": "python",
   "pygments_lexer": "ipython3",
   "version": "3.9.7"
  }
 },
 "nbformat": 4,
 "nbformat_minor": 5
}
